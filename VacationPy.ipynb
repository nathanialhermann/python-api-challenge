{
 "cells": [
  {
   "cell_type": "markdown",
   "metadata": {},
   "source": [
    "# VacationPy\n",
    "---\n",
    "\n",
    "## Starter Code to Import Libraries and Load the Weather and Coordinates Data"
   ]
  },
  {
   "cell_type": "code",
   "execution_count": 18,
   "metadata": {},
   "outputs": [],
   "source": [
    "# Dependencies and Setup\n",
    "import hvplot.pandas\n",
    "import pandas as pd\n",
    "import requests\n",
    "\n",
    "# Import API key\n",
    "from api_keys import geoapify_key"
   ]
  },
  {
   "cell_type": "code",
   "execution_count": 19,
   "metadata": {},
   "outputs": [
    {
     "data": {
      "text/html": [
       "<div>\n",
       "<style scoped>\n",
       "    .dataframe tbody tr th:only-of-type {\n",
       "        vertical-align: middle;\n",
       "    }\n",
       "\n",
       "    .dataframe tbody tr th {\n",
       "        vertical-align: top;\n",
       "    }\n",
       "\n",
       "    .dataframe thead th {\n",
       "        text-align: right;\n",
       "    }\n",
       "</style>\n",
       "<table border=\"1\" class=\"dataframe\">\n",
       "  <thead>\n",
       "    <tr style=\"text-align: right;\">\n",
       "      <th></th>\n",
       "      <th>City_ID</th>\n",
       "      <th>City</th>\n",
       "      <th>Lat</th>\n",
       "      <th>Lng</th>\n",
       "      <th>Max Temp</th>\n",
       "      <th>Humidity</th>\n",
       "      <th>Cloudiness</th>\n",
       "      <th>Wind Speed</th>\n",
       "      <th>Country</th>\n",
       "      <th>Date</th>\n",
       "    </tr>\n",
       "  </thead>\n",
       "  <tbody>\n",
       "    <tr>\n",
       "      <th>0</th>\n",
       "      <td>0</td>\n",
       "      <td>fortuna</td>\n",
       "      <td>40.5982</td>\n",
       "      <td>-124.1573</td>\n",
       "      <td>295.33</td>\n",
       "      <td>71</td>\n",
       "      <td>20</td>\n",
       "      <td>6.17</td>\n",
       "      <td>US</td>\n",
       "      <td>1691006396</td>\n",
       "    </tr>\n",
       "    <tr>\n",
       "      <th>1</th>\n",
       "      <td>1</td>\n",
       "      <td>adamstown</td>\n",
       "      <td>-25.0660</td>\n",
       "      <td>-130.1015</td>\n",
       "      <td>294.13</td>\n",
       "      <td>66</td>\n",
       "      <td>100</td>\n",
       "      <td>7.68</td>\n",
       "      <td>PN</td>\n",
       "      <td>1691006396</td>\n",
       "    </tr>\n",
       "    <tr>\n",
       "      <th>2</th>\n",
       "      <td>2</td>\n",
       "      <td>iqaluit</td>\n",
       "      <td>63.7506</td>\n",
       "      <td>-68.5145</td>\n",
       "      <td>285.00</td>\n",
       "      <td>66</td>\n",
       "      <td>20</td>\n",
       "      <td>2.57</td>\n",
       "      <td>CA</td>\n",
       "      <td>1691006396</td>\n",
       "    </tr>\n",
       "    <tr>\n",
       "      <th>3</th>\n",
       "      <td>3</td>\n",
       "      <td>huesca</td>\n",
       "      <td>42.1362</td>\n",
       "      <td>-0.4087</td>\n",
       "      <td>302.53</td>\n",
       "      <td>51</td>\n",
       "      <td>0</td>\n",
       "      <td>4.02</td>\n",
       "      <td>ES</td>\n",
       "      <td>1691006397</td>\n",
       "    </tr>\n",
       "    <tr>\n",
       "      <th>4</th>\n",
       "      <td>4</td>\n",
       "      <td>tiksi</td>\n",
       "      <td>71.6872</td>\n",
       "      <td>128.8694</td>\n",
       "      <td>277.97</td>\n",
       "      <td>96</td>\n",
       "      <td>100</td>\n",
       "      <td>3.67</td>\n",
       "      <td>RU</td>\n",
       "      <td>1691006397</td>\n",
       "    </tr>\n",
       "  </tbody>\n",
       "</table>\n",
       "</div>"
      ],
      "text/plain": [
       "   City_ID       City      Lat       Lng  Max Temp  Humidity  Cloudiness  \\\n",
       "0        0    fortuna  40.5982 -124.1573    295.33        71          20   \n",
       "1        1  adamstown -25.0660 -130.1015    294.13        66         100   \n",
       "2        2    iqaluit  63.7506  -68.5145    285.00        66          20   \n",
       "3        3     huesca  42.1362   -0.4087    302.53        51           0   \n",
       "4        4      tiksi  71.6872  128.8694    277.97        96         100   \n",
       "\n",
       "   Wind Speed Country        Date  \n",
       "0        6.17      US  1691006396  \n",
       "1        7.68      PN  1691006396  \n",
       "2        2.57      CA  1691006396  \n",
       "3        4.02      ES  1691006397  \n",
       "4        3.67      RU  1691006397  "
      ]
     },
     "execution_count": 19,
     "metadata": {},
     "output_type": "execute_result"
    }
   ],
   "source": [
    "# Load the CSV file created in Part 1 into a Pandas DataFrame\n",
    "city_data_df = pd.read_csv(\"output_data/cities.csv\")\n",
    "\n",
    "# Display sample data\n",
    "city_data_df.head()"
   ]
  },
  {
   "cell_type": "markdown",
   "metadata": {},
   "source": [
    "---\n",
    "\n",
    "### Step 1: Create a map that displays a point for every city in the `city_data_df` DataFrame. The size of the point should be the humidity in each city."
   ]
  },
  {
   "cell_type": "code",
   "execution_count": 20,
   "metadata": {},
   "outputs": [
    {
     "data": {},
     "metadata": {},
     "output_type": "display_data"
    },
    {
     "data": {
      "application/vnd.holoviews_exec.v0+json": "",
      "text/html": [
       "<div id='1641'>\n",
       "  <div class=\"bk-root\" id=\"ed166929-8537-4ab9-8afb-5df9e654cf81\" data-root-id=\"1641\"></div>\n",
       "</div>\n",
       "<script type=\"application/javascript\">(function(root) {\n",
       "  function embed_document(root) {\n",
       "    var docs_json = {\"78824a4e-2084-43d8-920e-d948168a396d\":{\"defs\":[{\"extends\":null,\"module\":null,\"name\":\"ReactiveHTML1\",\"overrides\":[],\"properties\":[]},{\"extends\":null,\"module\":null,\"name\":\"FlexBox1\",\"overrides\":[],\"properties\":[{\"default\":\"flex-start\",\"kind\":null,\"name\":\"align_content\"},{\"default\":\"flex-start\",\"kind\":null,\"name\":\"align_items\"},{\"default\":\"row\",\"kind\":null,\"name\":\"flex_direction\"},{\"default\":\"wrap\",\"kind\":null,\"name\":\"flex_wrap\"},{\"default\":\"flex-start\",\"kind\":null,\"name\":\"justify_content\"}]},{\"extends\":null,\"module\":null,\"name\":\"GridStack1\",\"overrides\":[],\"properties\":[{\"default\":\"warn\",\"kind\":null,\"name\":\"mode\"},{\"default\":null,\"kind\":null,\"name\":\"ncols\"},{\"default\":null,\"kind\":null,\"name\":\"nrows\"},{\"default\":true,\"kind\":null,\"name\":\"allow_resize\"},{\"default\":true,\"kind\":null,\"name\":\"allow_drag\"},{\"default\":[],\"kind\":null,\"name\":\"state\"}]},{\"extends\":null,\"module\":null,\"name\":\"click1\",\"overrides\":[],\"properties\":[{\"default\":\"\",\"kind\":null,\"name\":\"terminal_output\"},{\"default\":\"\",\"kind\":null,\"name\":\"debug_name\"},{\"default\":0,\"kind\":null,\"name\":\"clears\"}]},{\"extends\":null,\"module\":null,\"name\":\"NotificationAreaBase1\",\"overrides\":[],\"properties\":[{\"default\":\"bottom-right\",\"kind\":null,\"name\":\"position\"},{\"default\":0,\"kind\":null,\"name\":\"_clear\"}]},{\"extends\":null,\"module\":null,\"name\":\"NotificationArea1\",\"overrides\":[],\"properties\":[{\"default\":[],\"kind\":null,\"name\":\"notifications\"},{\"default\":\"bottom-right\",\"kind\":null,\"name\":\"position\"},{\"default\":0,\"kind\":null,\"name\":\"_clear\"},{\"default\":[{\"background\":\"#ffc107\",\"icon\":{\"className\":\"fas fa-exclamation-triangle\",\"color\":\"white\",\"tagName\":\"i\"},\"type\":\"warning\"},{\"background\":\"#007bff\",\"icon\":{\"className\":\"fas fa-info-circle\",\"color\":\"white\",\"tagName\":\"i\"},\"type\":\"info\"}],\"kind\":null,\"name\":\"types\"}]},{\"extends\":null,\"module\":null,\"name\":\"Notification\",\"overrides\":[],\"properties\":[{\"default\":null,\"kind\":null,\"name\":\"background\"},{\"default\":3000,\"kind\":null,\"name\":\"duration\"},{\"default\":null,\"kind\":null,\"name\":\"icon\"},{\"default\":\"\",\"kind\":null,\"name\":\"message\"},{\"default\":null,\"kind\":null,\"name\":\"notification_type\"},{\"default\":false,\"kind\":null,\"name\":\"_destroyed\"}]},{\"extends\":null,\"module\":null,\"name\":\"TemplateActions1\",\"overrides\":[],\"properties\":[{\"default\":0,\"kind\":null,\"name\":\"open_modal\"},{\"default\":0,\"kind\":null,\"name\":\"close_modal\"}]},{\"extends\":null,\"module\":null,\"name\":\"MaterialTemplateActions1\",\"overrides\":[],\"properties\":[{\"default\":0,\"kind\":null,\"name\":\"open_modal\"},{\"default\":0,\"kind\":null,\"name\":\"close_modal\"}]}],\"roots\":{\"references\":[{\"attributes\":{\"axis_label\":\"x\",\"coordinates\":null,\"formatter\":{\"id\":\"1682\"},\"group\":null,\"major_label_policy\":{\"id\":\"1687\"},\"ticker\":{\"id\":\"1681\"}},\"id\":\"1660\",\"type\":\"LinearAxis\"},{\"attributes\":{\"coordinates\":null,\"group\":null,\"level\":\"glyph\",\"tile_source\":{\"id\":\"1707\"}},\"id\":\"1710\",\"type\":\"TileRenderer\"},{\"attributes\":{\"axis\":{\"id\":\"1660\"},\"coordinates\":null,\"grid_line_color\":null,\"group\":null,\"ticker\":null},\"id\":\"1663\",\"type\":\"Grid\"},{\"attributes\":{},\"id\":\"1658\",\"type\":\"LinearScale\"},{\"attributes\":{},\"id\":\"1687\",\"type\":\"AllLabels\"},{\"attributes\":{},\"id\":\"1656\",\"type\":\"LinearScale\"},{\"attributes\":{\"zoom_on_axis\":false},\"id\":\"1670\",\"type\":\"WheelZoomTool\"},{\"attributes\":{},\"id\":\"1726\",\"type\":\"UnionRenderers\"},{\"attributes\":{\"coordinates\":null,\"group\":null,\"text_color\":\"black\",\"text_font_size\":\"12pt\"},\"id\":\"1652\",\"type\":\"Title\"},{\"attributes\":{\"fill_alpha\":{\"value\":0.2},\"fill_color\":{\"field\":\"color\",\"transform\":{\"id\":\"1712\"}},\"hatch_alpha\":{\"value\":0.2},\"hatch_color\":{\"field\":\"color\",\"transform\":{\"id\":\"1712\"}},\"line_alpha\":{\"value\":0.2},\"line_color\":{\"field\":\"color\",\"transform\":{\"id\":\"1712\"}},\"size\":{\"field\":\"size\"},\"tags\":[\"apply_ranges\"],\"x\":{\"field\":\"Lng\"},\"y\":{\"field\":\"Lat\"}},\"id\":\"1720\",\"type\":\"Scatter\"},{\"attributes\":{\"callback\":null,\"formatters\":{\"$x\":{\"id\":\"1731\"},\"$y\":{\"id\":\"1732\"}},\"renderers\":[{\"id\":\"1721\"}],\"tags\":[\"hv_created\"],\"tooltips\":[[\"Lng\",\"$x{custom}\"],[\"Lat\",\"$y{custom}\"],[\"City\",\"@{City}\"],[\"Humidity\",\"@{Humidity}\"]]},\"id\":\"1650\",\"type\":\"HoverTool\"},{\"attributes\":{},\"id\":\"1669\",\"type\":\"PanTool\"},{\"attributes\":{},\"id\":\"1714\",\"type\":\"Selection\"},{\"attributes\":{\"axis\":{\"id\":\"1664\"},\"coordinates\":null,\"dimension\":1,\"grid_line_color\":null,\"group\":null,\"ticker\":null},\"id\":\"1667\",\"type\":\"Grid\"},{\"attributes\":{\"label\":{\"field\":\"color\"},\"renderers\":[{\"id\":\"1721\"}]},\"id\":\"1730\",\"type\":\"LegendItem\"},{\"attributes\":{\"code\":\"\\n        var projections = Bokeh.require(\\\"core/util/projections\\\");\\n        var x = special_vars.data_x\\n        var y = special_vars.data_y\\n        var coords = projections.wgs84_mercator.invert(x, y)\\n        return \\\"\\\" + (coords[1]).toFixed(4)\\n    \"},\"id\":\"1732\",\"type\":\"CustomJSHover\"},{\"attributes\":{\"coordinates\":null,\"data_source\":{\"id\":\"1713\"},\"glyph\":{\"id\":\"1716\"},\"group\":null,\"hover_glyph\":{\"id\":\"1719\"},\"muted_glyph\":{\"id\":\"1720\"},\"nonselection_glyph\":{\"id\":\"1717\"},\"selection_glyph\":{\"id\":\"1718\"},\"view\":{\"id\":\"1722\"}},\"id\":\"1721\",\"type\":\"GlyphRenderer\"},{\"attributes\":{\"click_policy\":\"mute\",\"coordinates\":null,\"group\":null,\"items\":[{\"id\":\"1730\"}],\"location\":[0,0]},\"id\":\"1729\",\"type\":\"Legend\"},{\"attributes\":{\"axis_label\":\"y\",\"coordinates\":null,\"formatter\":{\"id\":\"1684\"},\"group\":null,\"major_label_policy\":{\"id\":\"1694\"},\"ticker\":{\"id\":\"1683\"}},\"id\":\"1664\",\"type\":\"LinearAxis\"},{\"attributes\":{\"below\":[{\"id\":\"1660\"}],\"center\":[{\"id\":\"1663\"},{\"id\":\"1667\"}],\"frame_height\":300,\"frame_width\":500,\"height\":null,\"left\":[{\"id\":\"1664\"}],\"margin\":[5,5,5,5],\"match_aspect\":true,\"min_border_bottom\":10,\"min_border_left\":10,\"min_border_right\":10,\"min_border_top\":10,\"output_backend\":\"webgl\",\"renderers\":[{\"id\":\"1710\"},{\"id\":\"1721\"}],\"right\":[{\"id\":\"1729\"}],\"sizing_mode\":\"fixed\",\"title\":{\"id\":\"1652\"},\"toolbar\":{\"id\":\"1674\"},\"width\":null,\"x_range\":{\"id\":\"1646\"},\"x_scale\":{\"id\":\"1656\"},\"y_range\":{\"id\":\"1647\"},\"y_scale\":{\"id\":\"1658\"}},\"id\":\"1651\",\"subtype\":\"Figure\",\"type\":\"Plot\"},{\"attributes\":{\"end\":16667782.964865487,\"min_interval\":5,\"reset_end\":16667782.964865487,\"reset_start\":-9504139.925670017,\"start\":-9504139.925670017,\"tags\":[[[\"Lat\",\"Lat\",null]]]},\"id\":\"1647\",\"type\":\"Range1d\"},{\"attributes\":{\"fill_alpha\":{\"value\":0.5},\"fill_color\":{\"field\":\"color\",\"transform\":{\"id\":\"1712\"}},\"hatch_alpha\":{\"value\":0.1},\"hatch_color\":{\"field\":\"color\",\"transform\":{\"id\":\"1712\"}},\"line_alpha\":{\"value\":0.5},\"line_color\":{\"field\":\"color\",\"transform\":{\"id\":\"1712\"}},\"size\":{\"field\":\"size\"},\"tags\":[\"apply_ranges\"],\"x\":{\"field\":\"Lng\"},\"y\":{\"field\":\"Lat\"}},\"id\":\"1717\",\"type\":\"Scatter\"},{\"attributes\":{\"fill_alpha\":{\"value\":0.5},\"fill_color\":{\"field\":\"color\",\"transform\":{\"id\":\"1712\"}},\"hatch_alpha\":{\"value\":0.5},\"hatch_color\":{\"field\":\"color\",\"transform\":{\"id\":\"1712\"}},\"line_alpha\":{\"value\":0.5},\"line_color\":{\"field\":\"color\",\"transform\":{\"id\":\"1712\"}},\"size\":{\"field\":\"size\"},\"tags\":[\"apply_ranges\"],\"x\":{\"field\":\"Lng\"},\"y\":{\"field\":\"Lat\"}},\"id\":\"1719\",\"type\":\"Scatter\"},{\"attributes\":{\"code\":\"\\n        var projections = Bokeh.require(\\\"core/util/projections\\\");\\n        var x = special_vars.data_x\\n        var y = special_vars.data_y\\n        var coords = projections.wgs84_mercator.invert(x, y)\\n        return \\\"\\\" + (coords[0]).toFixed(4)\\n    \"},\"id\":\"1731\",\"type\":\"CustomJSHover\"},{\"attributes\":{},\"id\":\"1668\",\"type\":\"SaveTool\"},{\"attributes\":{\"source\":{\"id\":\"1713\"}},\"id\":\"1722\",\"type\":\"CDSView\"},{\"attributes\":{\"end\":22122063.644367445,\"min_interval\":5,\"reset_end\":22122063.644367445,\"reset_start\":-22019248.96267078,\"start\":-22019248.96267078,\"tags\":[[[\"Lng\",\"Lng\",null]]]},\"id\":\"1646\",\"type\":\"Range1d\"},{\"attributes\":{\"match_aspect\":true,\"overlay\":{\"id\":\"1673\"}},\"id\":\"1671\",\"type\":\"BoxZoomTool\"},{\"attributes\":{\"children\":[{\"id\":\"1651\"}],\"margin\":[0,0,0,0],\"name\":\"Row02239\",\"sizing_mode\":\"fixed\",\"tags\":[\"embedded\"]},\"id\":\"1641\",\"type\":\"Row\"},{\"attributes\":{},\"id\":\"1672\",\"type\":\"ResetTool\"},{\"attributes\":{\"factors\":[\"fortuna\",\"adamstown\",\"iqaluit\",\"huesca\",\"tiksi\",\"solleftea\",\"puerto natales\",\"waitangi\",\"uturoa\",\"mount pearl\",\"arar\",\"bilibino\",\"port augusta\",\"avarua\",\"whitehorse\",\"amos\",\"punta arenas\",\"hamilton\",\"hauterive\",\"grytviken\",\"edinburgh of the seven seas\",\"la'ie\",\"general levalle\",\"puerto ayora\",\"sur\",\"ancud\",\"margaret river\",\"port-aux-francais\",\"camalu\",\"porbandar\",\"papatowai\",\"kodiak\",\"petropavlovsk-kamchatsky\",\"blackmans bay\",\"arraial do cabo\",\"badger\",\"alofi\",\"hawaiian paradise park\",\"bethel\",\"lebu\",\"nuku'alofa\",\"invercargill\",\"wailua homesteads\",\"hithadhoo\",\"ushuaia\",\"fort bragg\",\"serdar\",\"mount gambier\",\"rengasdengklok\",\"cabo san lucas\",\"lyantor\",\"keflavik\",\"vilyuchinsk\",\"coxim\",\"alva\",\"glace bay\",\"thompson\",\"enewetak\",\"klyuchi\",\"albany\",\"coquimbo\",\"rio gallegos\",\"motygino\",\"houghton\",\"merizo village\",\"mawu\",\"tual\",\"keningau\",\"metlili chaamba\",\"redencao\",\"axim\",\"suntar\",\"chonchi\",\"susuman\",\"revda\",\"bryne\",\"sao vicente\",\"puerto deseado\",\"longyearbyen\",\"udachny\",\"sunnyside\",\"ocean city\",\"saipan\",\"west island\",\"haiku-pauwela\",\"yellowknife\",\"olonkinbyen\",\"bredasdorp\",\"south yarmouth\",\"vadso\",\"nyrob\",\"tazovsky\",\"nova vicosa\",\"hilo\",\"kayangel\",\"qaqortoq\",\"coronel dorrego\",\"weining\",\"sabha\",\"amurzet\",\"itoman\",\"farap\",\"ribeira grande\",\"port elizabeth\",\"xilin hot\",\"yaren\",\"pisco\",\"kutum\",\"atafu village\",\"sergeyevka\",\"saint-francois\",\"stanley\",\"noosa heads\",\"puerto baquerizo moreno\",\"nemuro\",\"jamestown\",\"mezhdurechenskiy\",\"quellon\",\"albu kamal\",\"ust-nera\",\"laramie\",\"la junta\",\"smithers\",\"tahoua\",\"zungeru\",\"tura\",\"remire-montjoly\",\"okha\",\"yamba\",\"harstad\",\"talnakh\",\"kapuskasing\",\"dudinka\",\"san julian\",\"jastrebarsko\",\"puerto santa\",\"isafjordur\",\"flying fish cove\",\"port mathurin\",\"port isabel\",\"freetown\",\"el nido\",\"nar'yan-mar\",\"saint-joseph\",\"hepingjie\",\"haradok\",\"naze\",\"constantia\",\"gadzhiyevo\",\"coahuayana de hidalgo\",\"richards bay\",\"oriximina\",\"flin flon\",\"gaiman\",\"bousso\",\"forde\",\"mlimba\",\"byala slatina\",\"hasaki\",\"yantarnyy\",\"kavaratti\",\"chibougamau\",\"al kut\",\"nova sintra\",\"wynyard\",\"udhampur\",\"cockburn town\",\"forster\",\"atherton\",\"opuwo\",\"masterton\",\"debre tabor\",\"san antonio de pale\",\"quezon\",\"saurimo\",\"kapa'a\",\"purnia\",\"bodden town\",\"bhind\",\"lazaro cardenas\",\"taishan\",\"rockport\",\"lycksele\",\"aasiaat\",\"argenta\",\"spring creek\",\"lihue\",\"urangan\",\"swakopmund\",\"college\",\"namibe\",\"bumba\",\"bella vista\",\"mogocha\",\"estella-lizarra\",\"port saint john's\",\"sandpoint\",\"khandyga\",\"gore\",\"salavan\",\"hanceville\",\"kingston\",\"talcahuano\",\"camacupa\",\"utrik\",\"kalaleh\",\"georgetown\",\"masuda\",\"kolonia town\",\"okoneshnikovo\",\"rio grande\",\"zaokskiy\",\"east london\",\"iskateley\",\"tayshet\",\"calvinia\",\"tobelo\",\"hermanus\",\"sitka\",\"babruysk\",\"sai buri\",\"tolanaro\",\"la foa\",\"banos\",\"howard springs\",\"san patricio\",\"dali\",\"barra de santo antonio\",\"broken hill\",\"grants\",\"mirny\",\"palmer\",\"dadukou\",\"koksovyy\",\"kandi\",\"las cruces\",\"mildura\",\"port alfred\",\"shukat as sufi\",\"rediu\",\"asau\",\"orkney\",\"ixtlahuacan del rio\",\"ubajara\",\"beberibe\",\"portland\",\"severo-yeniseyskiy\",\"crane\",\"malindi\",\"kirensk\",\"gandajika\",\"happy valley-goose bay\",\"cestos city\",\"namtsy\",\"akcakale\",\"lengshuitan\",\"amga\",\"huarmey\",\"anadyr\",\"ilulissat\",\"togur\",\"vernon\",\"narvik\",\"buta\",\"de aar\",\"carnarvon\",\"waddan\",\"obidos\",\"vorgashor\",\"cozumel\",\"sulak\",\"ouargla\",\"weno\",\"kenora\",\"hadibu\",\"prince george\",\"faya-largeau\",\"buala\",\"parkes\",\"at tall\",\"alagir\",\"yanbu\",\"pampa\",\"puerto carreno\",\"'ain el hadjar\",\"yangjiang\",\"ascension\",\"mendi\",\"grand falls-windsor\",\"sola\",\"lugoba\",\"ciudad satelite\",\"suksun\",\"san luis ixcan\",\"anna regina\",\"whangarei\",\"inhambane\",\"san juan de miraflores\",\"vanino\",\"coro\",\"queenstown\",\"puerto el triunfo\",\"sinan\",\"dul'durga\",\"madinat ash shamal\",\"kachug\",\"island harbour\",\"mahina\",\"codrington\",\"pallasovka\",\"goz beida\",\"marsh harbour\",\"priozersk\",\"ambodifotatra\",\"severnoye\",\"port lincoln\",\"priladozhskiy\",\"tabou\",\"isla mujeres\",\"bowen\",\"aljezur\",\"lorengau\",\"anjangaon\",\"kaspiyskiy\",\"banda aceh\",\"singaraja\",\"puerto leguizamo\",\"praia\",\"saldanha\",\"saudarkrokur\",\"salalah\",\"carbonear\",\"nueva helvecia\",\"tantou\",\"polyarnyy\",\"mar del plata\",\"minzhu\",\"dhidhdhoo\",\"palikir - national government center\",\"nelson bay\",\"zaozersk\",\"egilsstadir\",\"cabedelo\",\"kerema\",\"shakawe\",\"mikuni\",\"touros\",\"eyl\",\"ambon\",\"acapulco de juarez\",\"chul'man\",\"burutu\",\"callao\",\"howrah\",\"basco\",\"la passe\",\"mazatlan\",\"uyuni\",\"at taj\",\"zhalantun\",\"flekkefjord\",\"ormara\",\"daru\",\"sona\",\"natal\",\"nagqu\",\"selkirk\",\"alice springs\",\"villa ojo de agua\",\"buulobarde\",\"tai'an\",\"necochea\",\"nieuw amsterdam\",\"taltal\",\"waimea\",\"alaghsas\",\"sao felix do xingu\",\"coxen hole\",\"west mackay\",\"luena\",\"kodinsk\",\"remedios\",\"archangelos\",\"vilar do paraiso\",\"tambura\",\"rakops\",\"mammoth lakes\",\"sandnessjoen\",\"sechura\",\"chelak\",\"galveston\",\"trinidad\",\"nako\",\"umba\",\"qarqaraly\",\"laela\",\"kariba\",\"kavieng\",\"bikenibeu village\",\"peace river\",\"eilat\",\"farah\",\"kidal\",\"mejit\",\"miles city\",\"tekeli\",\"malpe\",\"afaahiti\",\"karlskrona\",\"les avirons\",\"challakere\",\"pont rouge\",\"yorkton\",\"antsiranana\",\"istaravshan\",\"villa juarez\",\"salinopolis\",\"mullsjo\",\"warrnambool\",\"lucapa\",\"filadelfia\",\"imbituba\",\"linxia chengguanzhen\",\"san-pedro\",\"baissa\",\"tzucacab\",\"katsuura\",\"mumford\",\"vysokiy\",\"sakakah\",\"laguna\",\"vrangel'\",\"vila franca do campo\",\"al bayda'\",\"gabu\",\"fale old settlement\",\"pandan\",\"chesterton\",\"kharkhorin\",\"geraldton\",\"juneau\",\"orchard homes\",\"sarupathar\",\"guiuan\",\"cueto\",\"jishu\",\"argo\",\"mao\",\"torghay\",\"sovetskaya gavan'\",\"ouesso\",\"selinsgrove\",\"abbadia san salvatore\",\"al bayda\",\"coromandel\",\"tymovskoye\",\"yatou\",\"mar'yinka\",\"saint-philippe\",\"coeur d'alene\",\"la mira\",\"guerrero negro\",\"dengzhou\",\"urzhar\",\"toyooka\",\"taiyuan\",\"dwarka\",\"yelanskiy\",\"cidreira\",\"kone\",\"maputo\",\"naantali\",\"kailua-kona\",\"newman\",\"nuuk\",\"malabar\",\"umm kaddadah\",\"ulladulla\",\"papao\",\"hobyo\",\"taounate\",\"makrana\",\"kharan\",\"shingu\",\"sisimiut\",\"churapcha\",\"likisa\",\"mermoz boabab\",\"sao tome\",\"jiwani\",\"redcliff\",\"kokkola\",\"santa cruz de tenerife\",\"vondrozo\",\"sandakan\",\"gilgit\",\"mlangali\",\"quatre cocos\",\"urengoy\",\"nyurba\",\"cerro de ortega\",\"kilju\",\"city of balikpapan\",\"adrar\",\"watertown\",\"kotabumi\",\"ciudad rodrigo\",\"floro\",\"san andres\",\"ola\",\"taro\",\"new norfolk\",\"dukhan\",\"saint-pierre\",\"bel ombre\",\"hammerfest\",\"boa vista\",\"haparanda\",\"amahai\",\"wewak\",\"bakchar\",\"quartu sant'elena\",\"mumbwa\",\"enid\",\"nanaimo\",\"souillac\",\"al kharijah\",\"keelung\",\"zag\",\"karratha\",\"kununurra\",\"nouadhibou\",\"arteche\",\"totness\",\"maracaibo\",\"siddipet\",\"chachersk\",\"kuching\",\"bogale\",\"lospalos\",\"mana\",\"muisne\",\"kaa-khem\",\"shahrud\",\"rikaze\",\"raduzhny\",\"amuntai\",\"bridgetown\",\"eastham\",\"tumayr\",\"pionerskiy\",\"achinsk\",\"ghat\",\"heunghae\",\"st. john's\",\"freeport\",\"chifeng\",\"aykhal\",\"santa maria da vitoria\",\"yuzhno-kurilsk\",\"borgonovo valtidone\",\"jayapura\",\"duki\",\"barabai\"],\"palette\":[\"#1f77b3\",\"#ff7e0e\",\"#2ba02b\",\"#d62628\",\"#9367bc\",\"#8c564b\",\"#e277c1\",\"#7e7e7e\",\"#bcbc21\",\"#16bdcf\",\"#3a0182\",\"#004201\",\"#0fffa8\",\"#5d003f\",\"#bcbcff\",\"#d8afa1\",\"#b80080\",\"#004d52\",\"#6b6400\",\"#7c0100\",\"#6026ff\",\"#ffff9a\",\"#564964\",\"#8cb893\",\"#93fbff\",\"#018267\",\"#90ff00\",\"#8200a0\",\"#ac8944\",\"#5b3400\",\"#ffbff2\",\"#ff6e75\",\"#798cff\",\"#dd00ff\",\"#505646\",\"#004489\",\"#ffbf60\",\"#ff018c\",\"#bdc8cf\",\"#af97b5\",\"#b65600\",\"#017000\",\"#cd87ff\",\"#1cd646\",\"#bfebc3\",\"#7997b5\",\"#a56089\",\"#6e8956\",\"#bc7c75\",\"#8a2844\",\"#00acff\",\"#8ed4ff\",\"#4b6d77\",\"#00d4b1\",\"#9300f2\",\"#8a9500\",\"#5d5b9e\",\"#fddfba\",\"#00939e\",\"#ffdb00\",\"#00aa79\",\"#520067\",\"#000091\",\"#0a5d3d\",\"#a5e275\",\"#623b41\",\"#c6c689\",\"#ff9eb5\",\"#cd4f6b\",\"#ff07d6\",\"#8a3a05\",\"#7e3d70\",\"#ff4901\",\"#602ba5\",\"#1c00ff\",\"#e6dfff\",\"#aa3baf\",\"#d89c00\",\"#a3a39e\",\"#3f69ff\",\"#46490c\",\"#7b6985\",\"#6b978c\",\"#ff9a75\",\"#835bff\",\"#7c6b46\",\"#80b654\",\"#bc0049\",\"#fd93ff\",\"#5d0018\",\"#89d1d1\",\"#9c8cd3\",\"#da6d42\",\"#8a5700\",\"#3b5069\",\"#4b6b3b\",\"#edcfd8\",\"#cfedff\",\"#aa1500\",\"#dfff4f\",\"#ff2a56\",\"#d1499e\",\"#707cb8\",\"#598000\",\"#00e4fd\",\"#774b95\",\"#67d48c\",\"#3d3a72\",\"#ac413f\",\"#d6a166\",\"#c169cd\",\"#69595d\",\"#87aced\",\"#a0a569\",\"#d1aae6\",\"#870062\",\"#00fddb\",\"#672818\",\"#b342ff\",\"#0e59c4\",\"#168742\",\"#90d300\",\"#cd7900\",\"#f959ff\",\"#5b7466\",\"#8eaeb3\",\"#9c7c8c\",\"#4600c6\",\"#6b4d2d\",\"#a56d46\",\"#9e8972\",\"#a8afca\",\"#cd8ca7\",\"#00fd64\",\"#917900\",\"#ff62a1\",\"#f4ffd8\",\"#018cf0\",\"#13aca0\",\"#5b2d59\",\"#89859e\",\"#cfccba\",\"#d4afc4\",\"#dbdd6d\",\"#cffff4\",\"#006485\",\"#006962\",\"#a84167\",\"#2d97c4\",\"#a874ff\",\"#26ba5d\",\"#57b600\",\"#caffa7\",\"#a379aa\",\"#ffbc93\",\"#89e2c1\",\"#0fc8ff\",\"#d400c4\",\"#626d89\",\"#69858e\",\"#4b4d52\",\"#aa6067\",\"#79b5d4\",\"#2b5916\",\"#9a0024\",\"#bdd1f2\",\"#896e67\",\"#69a56b\",\"#855467\",\"#aecdba\",\"#87997e\",\"#cadb00\",\"#9a0390\",\"#ebbc1a\",\"#eb9cd1\",\"#70006e\",\"#b1a131\",\"#ca6b93\",\"#4146a3\",\"#e48c89\",\"#d44400\",\"#c68aca\",\"#b69597\",\"#d41f75\",\"#724bcc\",\"#674d00\",\"#672138\",\"#38564f\",\"#6ebaaa\",\"#853a31\",\"#a5d397\",\"#b8af8e\",\"#d8e4df\",\"#aa00df\",\"#cac1db\",\"#ffdf8c\",\"#e2524d\",\"#66696e\",\"#ff001c\",\"#522d72\",\"#4d906b\",\"#a86d11\",\"#ff9e26\",\"#5ea3af\",\"#c88556\",\"#915997\",\"#a3a1ff\",\"#fdbaba\",\"#242a87\",\"#dbe6a8\",\"#97f2a7\",\"#6793d6\",\"#ba5b3f\",\"#3a5d91\",\"#364f2f\",\"#267c95\",\"#89959a\",\"#cfb356\",\"#004664\",\"#5e5d2f\",\"#8e8e41\",\"#ac3f13\",\"#69953b\",\"#a13d85\",\"#bfb6ba\",\"#acc667\",\"#6469cf\",\"#91af00\",\"#2be2da\",\"#016e36\",\"#ff7952\",\"#42807e\",\"#4fe800\",\"#995428\",\"#5d0a00\",\"#a30057\",\"#0c8700\",\"#5982a7\",\"#ffebfb\",\"#4b6901\",\"#8775d4\",\"#e6c6ff\",\"#a5ffda\",\"#d86e77\",\"#df014b\",\"#69675b\",\"#776ba1\",\"#7e8067\",\"#594685\",\"#0000ca\",\"#7c002a\",\"#97ff72\",\"#b5e2e1\",\"#db52c8\",\"#777734\",\"#57bd8e\",\"#1f77b3\",\"#ff7e0e\",\"#2ba02b\",\"#d62628\",\"#9367bc\",\"#8c564b\",\"#e277c1\",\"#7e7e7e\",\"#bcbc21\",\"#16bdcf\",\"#3a0182\",\"#004201\",\"#0fffa8\",\"#5d003f\",\"#bcbcff\",\"#d8afa1\",\"#b80080\",\"#004d52\",\"#6b6400\",\"#7c0100\",\"#6026ff\",\"#ffff9a\",\"#564964\",\"#8cb893\",\"#93fbff\",\"#018267\",\"#90ff00\",\"#8200a0\",\"#ac8944\",\"#5b3400\",\"#ffbff2\",\"#ff6e75\",\"#798cff\",\"#dd00ff\",\"#505646\",\"#004489\",\"#ffbf60\",\"#ff018c\",\"#bdc8cf\",\"#af97b5\",\"#b65600\",\"#017000\",\"#cd87ff\",\"#1cd646\",\"#bfebc3\",\"#7997b5\",\"#a56089\",\"#6e8956\",\"#bc7c75\",\"#8a2844\",\"#00acff\",\"#8ed4ff\",\"#4b6d77\",\"#00d4b1\",\"#9300f2\",\"#8a9500\",\"#5d5b9e\",\"#fddfba\",\"#00939e\",\"#ffdb00\",\"#00aa79\",\"#520067\",\"#000091\",\"#0a5d3d\",\"#a5e275\",\"#623b41\",\"#c6c689\",\"#ff9eb5\",\"#cd4f6b\",\"#ff07d6\",\"#8a3a05\",\"#7e3d70\",\"#ff4901\",\"#602ba5\",\"#1c00ff\",\"#e6dfff\",\"#aa3baf\",\"#d89c00\",\"#a3a39e\",\"#3f69ff\",\"#46490c\",\"#7b6985\",\"#6b978c\",\"#ff9a75\",\"#835bff\",\"#7c6b46\",\"#80b654\",\"#bc0049\",\"#fd93ff\",\"#5d0018\",\"#89d1d1\",\"#9c8cd3\",\"#da6d42\",\"#8a5700\",\"#3b5069\",\"#4b6b3b\",\"#edcfd8\",\"#cfedff\",\"#aa1500\",\"#dfff4f\",\"#ff2a56\",\"#d1499e\",\"#707cb8\",\"#598000\",\"#00e4fd\",\"#774b95\",\"#67d48c\",\"#3d3a72\",\"#ac413f\",\"#d6a166\",\"#c169cd\",\"#69595d\",\"#87aced\",\"#a0a569\",\"#d1aae6\",\"#870062\",\"#00fddb\",\"#672818\",\"#b342ff\",\"#0e59c4\",\"#168742\",\"#90d300\",\"#cd7900\",\"#f959ff\",\"#5b7466\",\"#8eaeb3\",\"#9c7c8c\",\"#4600c6\",\"#6b4d2d\",\"#a56d46\",\"#9e8972\",\"#a8afca\",\"#cd8ca7\",\"#00fd64\",\"#917900\",\"#ff62a1\",\"#f4ffd8\",\"#018cf0\",\"#13aca0\",\"#5b2d59\",\"#89859e\",\"#cfccba\",\"#d4afc4\",\"#dbdd6d\",\"#cffff4\",\"#006485\",\"#006962\",\"#a84167\",\"#2d97c4\",\"#a874ff\",\"#26ba5d\",\"#57b600\",\"#caffa7\",\"#a379aa\",\"#ffbc93\",\"#89e2c1\",\"#0fc8ff\",\"#d400c4\",\"#626d89\",\"#69858e\",\"#4b4d52\",\"#aa6067\",\"#79b5d4\",\"#2b5916\",\"#9a0024\",\"#bdd1f2\",\"#896e67\",\"#69a56b\",\"#855467\",\"#aecdba\",\"#87997e\",\"#cadb00\",\"#9a0390\",\"#ebbc1a\",\"#eb9cd1\",\"#70006e\",\"#b1a131\",\"#ca6b93\",\"#4146a3\",\"#e48c89\",\"#d44400\",\"#c68aca\",\"#b69597\",\"#d41f75\",\"#724bcc\",\"#674d00\",\"#672138\",\"#38564f\",\"#6ebaaa\",\"#853a31\",\"#a5d397\",\"#b8af8e\",\"#d8e4df\",\"#aa00df\",\"#cac1db\",\"#ffdf8c\",\"#e2524d\",\"#66696e\",\"#ff001c\",\"#522d72\",\"#4d906b\",\"#a86d11\",\"#ff9e26\",\"#5ea3af\",\"#c88556\",\"#915997\",\"#a3a1ff\",\"#fdbaba\",\"#242a87\",\"#dbe6a8\",\"#97f2a7\",\"#6793d6\",\"#ba5b3f\",\"#3a5d91\",\"#364f2f\",\"#267c95\",\"#89959a\",\"#cfb356\",\"#004664\",\"#5e5d2f\",\"#8e8e41\",\"#ac3f13\",\"#69953b\",\"#a13d85\",\"#bfb6ba\",\"#acc667\",\"#6469cf\",\"#91af00\",\"#2be2da\",\"#016e36\",\"#ff7952\",\"#42807e\",\"#4fe800\",\"#995428\",\"#5d0a00\",\"#a30057\",\"#0c8700\",\"#5982a7\",\"#ffebfb\",\"#4b6901\",\"#8775d4\",\"#e6c6ff\",\"#a5ffda\",\"#d86e77\",\"#df014b\",\"#69675b\",\"#776ba1\",\"#7e8067\",\"#594685\",\"#0000ca\",\"#7c002a\",\"#97ff72\",\"#b5e2e1\",\"#db52c8\",\"#777734\",\"#57bd8e\",\"#1f77b3\",\"#ff7e0e\",\"#2ba02b\",\"#d62628\",\"#9367bc\",\"#8c564b\",\"#e277c1\",\"#7e7e7e\",\"#bcbc21\",\"#16bdcf\",\"#3a0182\",\"#004201\",\"#0fffa8\",\"#5d003f\",\"#bcbcff\",\"#d8afa1\",\"#b80080\",\"#004d52\",\"#6b6400\",\"#7c0100\",\"#6026ff\",\"#ffff9a\",\"#564964\",\"#8cb893\",\"#93fbff\",\"#018267\",\"#90ff00\",\"#8200a0\",\"#ac8944\",\"#5b3400\",\"#ffbff2\",\"#ff6e75\",\"#798cff\",\"#dd00ff\",\"#505646\",\"#004489\",\"#ffbf60\",\"#ff018c\",\"#bdc8cf\",\"#af97b5\",\"#b65600\",\"#017000\",\"#cd87ff\",\"#1cd646\",\"#bfebc3\",\"#7997b5\",\"#a56089\",\"#6e8956\",\"#bc7c75\",\"#8a2844\",\"#00acff\",\"#8ed4ff\"]},\"id\":\"1712\",\"type\":\"CategoricalColorMapper\"},{\"attributes\":{\"fill_alpha\":{\"value\":0.5},\"fill_color\":{\"field\":\"color\",\"transform\":{\"id\":\"1712\"}},\"hatch_alpha\":{\"value\":0.5},\"hatch_color\":{\"field\":\"color\",\"transform\":{\"id\":\"1712\"}},\"line_alpha\":{\"value\":0.5},\"line_color\":{\"field\":\"color\",\"transform\":{\"id\":\"1712\"}},\"size\":{\"field\":\"size\"},\"tags\":[\"apply_ranges\"],\"x\":{\"field\":\"Lng\"},\"y\":{\"field\":\"Lat\"}},\"id\":\"1718\",\"type\":\"Scatter\"},{\"attributes\":{\"bottom_units\":\"screen\",\"coordinates\":null,\"fill_alpha\":0.5,\"fill_color\":\"lightgrey\",\"group\":null,\"left_units\":\"screen\",\"level\":\"overlay\",\"line_alpha\":1.0,\"line_color\":\"black\",\"line_dash\":[4,4],\"line_width\":2,\"right_units\":\"screen\",\"syncable\":false,\"top_units\":\"screen\"},\"id\":\"1673\",\"type\":\"BoxAnnotation\"},{\"attributes\":{\"data\":{\"City\":[\"fortuna\",\"adamstown\",\"iqaluit\",\"huesca\",\"tiksi\",\"solleftea\",\"puerto natales\",\"waitangi\",\"uturoa\",\"mount pearl\",\"arar\",\"bilibino\",\"port augusta\",\"avarua\",\"whitehorse\",\"amos\",\"punta arenas\",\"hamilton\",\"hauterive\",\"grytviken\",\"edinburgh of the seven seas\",\"la'ie\",\"general levalle\",\"puerto ayora\",\"sur\",\"ancud\",\"margaret river\",\"port-aux-francais\",\"camalu\",\"porbandar\",\"papatowai\",\"kodiak\",\"petropavlovsk-kamchatsky\",\"blackmans bay\",\"arraial do cabo\",\"badger\",\"alofi\",\"hawaiian paradise park\",\"bethel\",\"lebu\",\"nuku'alofa\",\"invercargill\",\"wailua homesteads\",\"hithadhoo\",\"ushuaia\",\"fort bragg\",\"serdar\",\"mount gambier\",\"rengasdengklok\",\"cabo san lucas\",\"lyantor\",\"keflavik\",\"vilyuchinsk\",\"coxim\",\"alva\",\"glace bay\",\"thompson\",\"enewetak\",\"klyuchi\",\"albany\",\"coquimbo\",\"rio gallegos\",\"motygino\",\"houghton\",\"merizo village\",\"mawu\",\"tual\",\"keningau\",\"metlili chaamba\",\"redencao\",\"axim\",\"suntar\",\"chonchi\",\"susuman\",\"revda\",\"bryne\",\"sao vicente\",\"puerto deseado\",\"longyearbyen\",\"udachny\",\"sunnyside\",\"ocean city\",\"saipan\",\"west island\",\"haiku-pauwela\",\"yellowknife\",\"olonkinbyen\",\"bredasdorp\",\"south yarmouth\",\"vadso\",\"nyrob\",\"tazovsky\",\"nova vicosa\",\"hilo\",\"kayangel\",\"qaqortoq\",\"coronel dorrego\",\"weining\",\"sabha\",\"amurzet\",\"itoman\",\"farap\",\"ribeira grande\",\"port elizabeth\",\"xilin hot\",\"yaren\",\"pisco\",\"kutum\",\"atafu village\",\"sergeyevka\",\"saint-francois\",\"stanley\",\"noosa heads\",\"puerto baquerizo moreno\",\"nemuro\",\"jamestown\",\"mezhdurechenskiy\",\"quellon\",\"albu kamal\",\"ust-nera\",\"laramie\",\"la junta\",\"smithers\",\"tahoua\",\"zungeru\",\"tura\",\"remire-montjoly\",\"okha\",\"yamba\",\"harstad\",\"talnakh\",\"kapuskasing\",\"dudinka\",\"san julian\",\"jastrebarsko\",\"puerto santa\",\"isafjordur\",\"flying fish cove\",\"port mathurin\",\"port isabel\",\"freetown\",\"el nido\",\"nar'yan-mar\",\"saint-joseph\",\"hepingjie\",\"haradok\",\"naze\",\"constantia\",\"gadzhiyevo\",\"coahuayana de hidalgo\",\"richards bay\",\"oriximina\",\"flin flon\",\"gaiman\",\"bousso\",\"forde\",\"mlimba\",\"byala slatina\",\"hasaki\",\"yantarnyy\",\"kavaratti\",\"chibougamau\",\"al kut\",\"nova sintra\",\"wynyard\",\"udhampur\",\"cockburn town\",\"forster\",\"atherton\",\"opuwo\",\"masterton\",\"debre tabor\",\"san antonio de pale\",\"quezon\",\"saurimo\",\"kapa'a\",\"purnia\",\"bodden town\",\"bhind\",\"lazaro cardenas\",\"taishan\",\"rockport\",\"lycksele\",\"aasiaat\",\"argenta\",\"spring creek\",\"lihue\",\"urangan\",\"swakopmund\",\"college\",\"namibe\",\"bumba\",\"bella vista\",\"mogocha\",\"estella-lizarra\",\"port saint john's\",\"sandpoint\",\"khandyga\",\"gore\",\"salavan\",\"hanceville\",\"kingston\",\"talcahuano\",\"camacupa\",\"utrik\",\"kalaleh\",\"georgetown\",\"masuda\",\"kolonia town\",\"okoneshnikovo\",\"rio grande\",\"zaokskiy\",\"east london\",\"iskateley\",\"tayshet\",\"calvinia\",\"tobelo\",\"hermanus\",\"sitka\",\"babruysk\",\"sai buri\",\"tolanaro\",\"la foa\",\"banos\",\"howard springs\",\"san patricio\",\"dali\",\"barra de santo antonio\",\"broken hill\",\"grants\",\"mirny\",\"palmer\",\"dadukou\",\"koksovyy\",\"kandi\",\"las cruces\",\"mildura\",\"port alfred\",\"shukat as sufi\",\"rediu\",\"asau\",\"orkney\",\"ixtlahuacan del rio\",\"ubajara\",\"beberibe\",\"portland\",\"severo-yeniseyskiy\",\"crane\",\"malindi\",\"kirensk\",\"gandajika\",\"happy valley-goose bay\",\"cestos city\",\"namtsy\",\"akcakale\",\"lengshuitan\",\"amga\",\"huarmey\",\"anadyr\",\"ilulissat\",\"togur\",\"vernon\",\"narvik\",\"buta\",\"de aar\",\"carnarvon\",\"waddan\",\"obidos\",\"vorgashor\",\"cozumel\",\"sulak\",\"ouargla\",\"weno\",\"kenora\",\"hadibu\",\"prince george\",\"faya-largeau\",\"buala\",\"parkes\",\"at tall\",\"alagir\",\"yanbu\",\"pampa\",\"puerto carreno\",\"'ain el hadjar\",\"yangjiang\",\"ascension\",\"mendi\",\"grand falls-windsor\",\"sola\",\"lugoba\",\"ciudad satelite\",\"suksun\",\"san luis ixcan\",\"anna regina\",\"whangarei\",\"inhambane\",\"san juan de miraflores\",\"vanino\",\"coro\",\"queenstown\",\"puerto el triunfo\",\"sinan\",\"dul'durga\",\"madinat ash shamal\",\"kachug\",\"island harbour\",\"mahina\",\"codrington\",\"pallasovka\",\"goz beida\",\"marsh harbour\",\"priozersk\",\"ambodifotatra\",\"severnoye\",\"port lincoln\",\"priladozhskiy\",\"tabou\",\"isla mujeres\",\"bowen\",\"aljezur\",\"lorengau\",\"anjangaon\",\"kaspiyskiy\",\"banda aceh\",\"singaraja\",\"puerto leguizamo\",\"praia\",\"saldanha\",\"saudarkrokur\",\"salalah\",\"carbonear\",\"nueva helvecia\",\"tantou\",\"polyarnyy\",\"mar del plata\",\"minzhu\",\"dhidhdhoo\",\"palikir - national government center\",\"nelson bay\",\"zaozersk\",\"egilsstadir\",\"cabedelo\",\"kerema\",\"shakawe\",\"mikuni\",\"touros\",\"eyl\",\"ambon\",\"acapulco de juarez\",\"chul'man\",\"burutu\",\"callao\",\"howrah\",\"basco\",\"la passe\",\"mazatlan\",\"uyuni\",\"at taj\",\"zhalantun\",\"flekkefjord\",\"ormara\",\"daru\",\"sona\",\"natal\",\"nagqu\",\"selkirk\",\"alice springs\",\"villa ojo de agua\",\"buulobarde\",\"tai'an\",\"necochea\",\"nieuw amsterdam\",\"taltal\",\"waimea\",\"alaghsas\",\"sao felix do xingu\",\"coxen hole\",\"west mackay\",\"luena\",\"kodinsk\",\"remedios\",\"archangelos\",\"vilar do paraiso\",\"tambura\",\"rakops\",\"mammoth lakes\",\"sandnessjoen\",\"sechura\",\"chelak\",\"galveston\",\"trinidad\",\"nako\",\"umba\",\"qarqaraly\",\"laela\",\"kariba\",\"kavieng\",\"bikenibeu village\",\"peace river\",\"eilat\",\"farah\",\"kidal\",\"mejit\",\"miles city\",\"tekeli\",\"malpe\",\"afaahiti\",\"karlskrona\",\"les avirons\",\"challakere\",\"pont rouge\",\"yorkton\",\"antsiranana\",\"istaravshan\",\"villa juarez\",\"salinopolis\",\"mullsjo\",\"warrnambool\",\"lucapa\",\"filadelfia\",\"imbituba\",\"linxia chengguanzhen\",\"san-pedro\",\"baissa\",\"tzucacab\",\"katsuura\",\"mumford\",\"vysokiy\",\"sakakah\",\"laguna\",\"vrangel'\",\"vila franca do campo\",\"al bayda'\",\"gabu\",\"fale old settlement\",\"pandan\",\"chesterton\",\"kharkhorin\",\"geraldton\",\"juneau\",\"orchard homes\",\"sarupathar\",\"guiuan\",\"cueto\",\"jishu\",\"argo\",\"mao\",\"torghay\",\"sovetskaya gavan'\",\"ouesso\",\"selinsgrove\",\"abbadia san salvatore\",\"al bayda\",\"coromandel\",\"tymovskoye\",\"yatou\",\"mar'yinka\",\"saint-philippe\",\"coeur d'alene\",\"la mira\",\"guerrero negro\",\"dengzhou\",\"urzhar\",\"toyooka\",\"taiyuan\",\"dwarka\",\"yelanskiy\",\"cidreira\",\"kone\",\"maputo\",\"naantali\",\"kailua-kona\",\"newman\",\"nuuk\",\"malabar\",\"umm kaddadah\",\"ulladulla\",\"papao\",\"hobyo\",\"taounate\",\"makrana\",\"kharan\",\"shingu\",\"sisimiut\",\"churapcha\",\"likisa\",\"mermoz boabab\",\"sao tome\",\"jiwani\",\"redcliff\",\"kokkola\",\"santa cruz de tenerife\",\"vondrozo\",\"sandakan\",\"gilgit\",\"mlangali\",\"quatre cocos\",\"urengoy\",\"nyurba\",\"cerro de ortega\",\"kilju\",\"city of balikpapan\",\"adrar\",\"watertown\",\"kotabumi\",\"ciudad rodrigo\",\"floro\",\"san andres\",\"ola\",\"taro\",\"new norfolk\",\"dukhan\",\"saint-pierre\",\"bel ombre\",\"hammerfest\",\"boa vista\",\"haparanda\",\"amahai\",\"wewak\",\"bakchar\",\"quartu sant'elena\",\"mumbwa\",\"enid\",\"nanaimo\",\"souillac\",\"al kharijah\",\"keelung\",\"zag\",\"karratha\",\"kununurra\",\"nouadhibou\",\"arteche\",\"totness\",\"maracaibo\",\"siddipet\",\"chachersk\",\"kuching\",\"bogale\",\"lospalos\",\"mana\",\"muisne\",\"kaa-khem\",\"shahrud\",\"rikaze\",\"raduzhny\",\"amuntai\",\"bridgetown\",\"eastham\",\"tumayr\",\"pionerskiy\",\"achinsk\",\"ghat\",\"heunghae\",\"st. john's\",\"freeport\",\"chifeng\",\"aykhal\",\"santa maria da vitoria\",\"yuzhno-kurilsk\",\"borgonovo valtidone\",\"jayapura\",\"duki\",\"barabai\"],\"Humidity\":[71,66,66,51,96,92,87,93,70,79,10,69,56,88,67,79,86,50,59,98,68,70,33,86,70,52,70,68,72,82,97,84,100,75,78,56,94,83,48,71,88,97,81,74,86,44,19,61,91,69,92,76,99,15,84,62,73,77,54,50,72,60,97,77,97,88,80,98,10,57,86,69,69,66,89,84,78,56,76,93,9,57,100,78,77,43,89,75,65,82,75,65,70,88,77,88,34,94,17,98,94,19,69,93,69,71,68,45,73,86,52,95,59,69,91,51,94,61,14,57,43,24,72,42,91,95,78,93,24,100,42,94,46,34,100,72,76,94,74,68,83,79,68,85,97,91,90,78,67,57,75,39,60,22,85,88,68,56,90,70,76,37,11,81,91,80,78,88,86,14,95,94,77,96,28,81,89,74,77,64,88,70,94,81,53,49,75,66,39,55,82,98,47,74,82,80,20,81,98,99,36,68,51,23,78,63,92,86,73,88,76,81,63,68,90,25,83,63,81,95,86,73,73,82,85,37,93,85,49,21,58,43,95,78,78,25,64,69,59,75,79,54,30,28,79,37,78,24,86,69,26,82,90,77,34,92,96,69,87,81,94,17,93,99,40,72,23,40,80,75,72,13,74,47,80,88,36,90,71,48,87,34,21,67,21,94,54,99,61,77,86,45,91,75,65,78,82,73,93,59,39,66,79,55,71,92,93,65,65,45,60,65,93,77,95,49,1,86,62,77,89,82,86,53,78,81,57,78,57,93,87,84,74,79,69,64,97,76,73,97,79,76,82,87,31,78,81,74,95,60,81,82,60,94,86,75,71,11,15,86,86,81,82,65,69,96,23,81,27,69,92,67,81,87,86,38,23,79,80,33,74,65,64,77,93,44,22,94,59,21,55,46,82,86,73,60,52,76,89,60,26,12,29,74,18,56,88,73,86,73,77,45,34,71,27,53,77,94,74,27,35,75,69,89,96,26,90,86,84,14,44,99,82,57,92,75,77,57,90,76,93,23,97,79,56,98,48,89,45,94,82,45,71,57,26,86,91,67,87,18,64,50,82,59,93,78,82,90,75,76,88,78,78,22,93,84,39,86,71,78,38,70,23,92,85,84,79,74,69,82,78,94,83,94,94,55,86,79,58,72,53,76,94,16,47,95,74,82,78,75,88,84,57,73,83,68,58,96,90,90,91,53,52,27,62,88,17,79,72,79,67,78,88,79,46,83,94,96,89,83,81,78,87,33,67,89,89,79,65,11,68,85,14,80,79,47,73,95,28,93,79,90,51,88],\"Lat\":{\"__ndarray__\":\"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\",\"dtype\":\"float64\",\"order\":\"little\",\"shape\":[564]},\"Lng\":{\"__ndarray__\":\"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\",\"dtype\":\"float64\",\"order\":\"little\",\"shape\":[564]},\"color\":[\"fortuna\",\"adamstown\",\"iqaluit\",\"huesca\",\"tiksi\",\"solleftea\",\"puerto natales\",\"waitangi\",\"uturoa\",\"mount pearl\",\"arar\",\"bilibino\",\"port augusta\",\"avarua\",\"whitehorse\",\"amos\",\"punta arenas\",\"hamilton\",\"hauterive\",\"grytviken\",\"edinburgh of the seven seas\",\"la'ie\",\"general levalle\",\"puerto ayora\",\"sur\",\"ancud\",\"margaret river\",\"port-aux-francais\",\"camalu\",\"porbandar\",\"papatowai\",\"kodiak\",\"petropavlovsk-kamchatsky\",\"blackmans bay\",\"arraial do cabo\",\"badger\",\"alofi\",\"hawaiian paradise park\",\"bethel\",\"lebu\",\"nuku'alofa\",\"invercargill\",\"wailua homesteads\",\"hithadhoo\",\"ushuaia\",\"fort bragg\",\"serdar\",\"mount gambier\",\"rengasdengklok\",\"cabo san lucas\",\"lyantor\",\"keflavik\",\"vilyuchinsk\",\"coxim\",\"alva\",\"glace bay\",\"thompson\",\"enewetak\",\"klyuchi\",\"albany\",\"coquimbo\",\"rio gallegos\",\"motygino\",\"houghton\",\"merizo village\",\"mawu\",\"tual\",\"keningau\",\"metlili chaamba\",\"redencao\",\"axim\",\"suntar\",\"chonchi\",\"susuman\",\"revda\",\"bryne\",\"sao vicente\",\"puerto deseado\",\"longyearbyen\",\"udachny\",\"sunnyside\",\"ocean city\",\"saipan\",\"west island\",\"haiku-pauwela\",\"yellowknife\",\"olonkinbyen\",\"bredasdorp\",\"south yarmouth\",\"vadso\",\"nyrob\",\"tazovsky\",\"nova vicosa\",\"hilo\",\"kayangel\",\"qaqortoq\",\"coronel dorrego\",\"weining\",\"sabha\",\"amurzet\",\"itoman\",\"farap\",\"ribeira grande\",\"port elizabeth\",\"xilin hot\",\"yaren\",\"pisco\",\"kutum\",\"atafu village\",\"sergeyevka\",\"saint-francois\",\"stanley\",\"noosa heads\",\"puerto baquerizo moreno\",\"nemuro\",\"jamestown\",\"mezhdurechenskiy\",\"quellon\",\"albu kamal\",\"ust-nera\",\"laramie\",\"la junta\",\"smithers\",\"tahoua\",\"zungeru\",\"tura\",\"remire-montjoly\",\"okha\",\"yamba\",\"harstad\",\"talnakh\",\"kapuskasing\",\"dudinka\",\"san julian\",\"jastrebarsko\",\"puerto santa\",\"isafjordur\",\"flying fish cove\",\"port mathurin\",\"port isabel\",\"freetown\",\"el nido\",\"nar'yan-mar\",\"saint-joseph\",\"hepingjie\",\"haradok\",\"naze\",\"constantia\",\"gadzhiyevo\",\"coahuayana de hidalgo\",\"richards bay\",\"oriximina\",\"flin flon\",\"gaiman\",\"bousso\",\"forde\",\"mlimba\",\"byala slatina\",\"hasaki\",\"yantarnyy\",\"kavaratti\",\"chibougamau\",\"al kut\",\"nova sintra\",\"wynyard\",\"udhampur\",\"cockburn town\",\"forster\",\"atherton\",\"opuwo\",\"masterton\",\"debre tabor\",\"san antonio de pale\",\"quezon\",\"saurimo\",\"kapa'a\",\"purnia\",\"bodden town\",\"bhind\",\"lazaro cardenas\",\"taishan\",\"rockport\",\"lycksele\",\"aasiaat\",\"argenta\",\"spring creek\",\"lihue\",\"urangan\",\"swakopmund\",\"college\",\"namibe\",\"bumba\",\"bella vista\",\"mogocha\",\"estella-lizarra\",\"port saint john's\",\"sandpoint\",\"khandyga\",\"gore\",\"salavan\",\"hanceville\",\"kingston\",\"talcahuano\",\"camacupa\",\"utrik\",\"kalaleh\",\"georgetown\",\"masuda\",\"kolonia town\",\"okoneshnikovo\",\"rio grande\",\"zaokskiy\",\"east london\",\"iskateley\",\"tayshet\",\"calvinia\",\"tobelo\",\"hermanus\",\"sitka\",\"babruysk\",\"sai buri\",\"tolanaro\",\"la foa\",\"banos\",\"howard springs\",\"san patricio\",\"dali\",\"barra de santo antonio\",\"broken hill\",\"grants\",\"mirny\",\"palmer\",\"dadukou\",\"koksovyy\",\"kandi\",\"las cruces\",\"mildura\",\"port alfred\",\"shukat as sufi\",\"rediu\",\"asau\",\"orkney\",\"ixtlahuacan del rio\",\"ubajara\",\"beberibe\",\"portland\",\"severo-yeniseyskiy\",\"crane\",\"malindi\",\"kirensk\",\"gandajika\",\"happy valley-goose bay\",\"cestos city\",\"namtsy\",\"akcakale\",\"lengshuitan\",\"amga\",\"huarmey\",\"anadyr\",\"ilulissat\",\"togur\",\"vernon\",\"narvik\",\"buta\",\"de aar\",\"carnarvon\",\"waddan\",\"obidos\",\"vorgashor\",\"cozumel\",\"sulak\",\"ouargla\",\"weno\",\"kenora\",\"hadibu\",\"prince george\",\"faya-largeau\",\"buala\",\"parkes\",\"at tall\",\"alagir\",\"yanbu\",\"pampa\",\"puerto carreno\",\"'ain el hadjar\",\"yangjiang\",\"ascension\",\"mendi\",\"grand falls-windsor\",\"sola\",\"lugoba\",\"ciudad satelite\",\"suksun\",\"san luis ixcan\",\"anna regina\",\"whangarei\",\"inhambane\",\"san juan de miraflores\",\"vanino\",\"coro\",\"queenstown\",\"puerto el triunfo\",\"sinan\",\"dul'durga\",\"madinat ash shamal\",\"kachug\",\"island harbour\",\"mahina\",\"codrington\",\"pallasovka\",\"goz beida\",\"marsh harbour\",\"priozersk\",\"ambodifotatra\",\"severnoye\",\"port lincoln\",\"priladozhskiy\",\"tabou\",\"isla mujeres\",\"bowen\",\"aljezur\",\"lorengau\",\"anjangaon\",\"kaspiyskiy\",\"banda aceh\",\"singaraja\",\"puerto leguizamo\",\"praia\",\"saldanha\",\"saudarkrokur\",\"salalah\",\"carbonear\",\"nueva helvecia\",\"tantou\",\"polyarnyy\",\"mar del plata\",\"minzhu\",\"dhidhdhoo\",\"palikir - national government center\",\"nelson bay\",\"zaozersk\",\"egilsstadir\",\"cabedelo\",\"kerema\",\"shakawe\",\"mikuni\",\"touros\",\"eyl\",\"ambon\",\"acapulco de juarez\",\"chul'man\",\"burutu\",\"callao\",\"howrah\",\"basco\",\"la passe\",\"mazatlan\",\"uyuni\",\"at taj\",\"zhalantun\",\"flekkefjord\",\"ormara\",\"daru\",\"sona\",\"natal\",\"nagqu\",\"selkirk\",\"alice springs\",\"villa ojo de agua\",\"buulobarde\",\"tai'an\",\"necochea\",\"nieuw amsterdam\",\"taltal\",\"waimea\",\"alaghsas\",\"sao felix do xingu\",\"coxen hole\",\"west mackay\",\"luena\",\"kodinsk\",\"remedios\",\"archangelos\",\"vilar do paraiso\",\"tambura\",\"rakops\",\"mammoth lakes\",\"sandnessjoen\",\"sechura\",\"chelak\",\"galveston\",\"trinidad\",\"nako\",\"umba\",\"qarqaraly\",\"laela\",\"kariba\",\"kavieng\",\"bikenibeu village\",\"peace river\",\"eilat\",\"farah\",\"kidal\",\"mejit\",\"miles city\",\"tekeli\",\"malpe\",\"afaahiti\",\"karlskrona\",\"les avirons\",\"challakere\",\"pont rouge\",\"yorkton\",\"antsiranana\",\"istaravshan\",\"villa juarez\",\"salinopolis\",\"mullsjo\",\"warrnambool\",\"lucapa\",\"filadelfia\",\"imbituba\",\"linxia chengguanzhen\",\"san-pedro\",\"baissa\",\"tzucacab\",\"katsuura\",\"mumford\",\"vysokiy\",\"sakakah\",\"laguna\",\"vrangel'\",\"vila franca do campo\",\"al bayda'\",\"gabu\",\"fale old settlement\",\"pandan\",\"chesterton\",\"kharkhorin\",\"geraldton\",\"juneau\",\"orchard homes\",\"sarupathar\",\"guiuan\",\"cueto\",\"jishu\",\"argo\",\"mao\",\"torghay\",\"sovetskaya gavan'\",\"ouesso\",\"selinsgrove\",\"abbadia san salvatore\",\"al bayda\",\"coromandel\",\"tymovskoye\",\"yatou\",\"mar'yinka\",\"saint-philippe\",\"coeur d'alene\",\"la mira\",\"guerrero negro\",\"dengzhou\",\"urzhar\",\"toyooka\",\"taiyuan\",\"dwarka\",\"yelanskiy\",\"cidreira\",\"kone\",\"maputo\",\"naantali\",\"kailua-kona\",\"newman\",\"nuuk\",\"malabar\",\"umm kaddadah\",\"ulladulla\",\"papao\",\"hobyo\",\"taounate\",\"makrana\",\"kharan\",\"shingu\",\"sisimiut\",\"churapcha\",\"likisa\",\"mermoz boabab\",\"sao tome\",\"jiwani\",\"redcliff\",\"kokkola\",\"santa cruz de tenerife\",\"vondrozo\",\"sandakan\",\"gilgit\",\"mlangali\",\"quatre cocos\",\"urengoy\",\"nyurba\",\"cerro de ortega\",\"kilju\",\"city of balikpapan\",\"adrar\",\"watertown\",\"kotabumi\",\"ciudad rodrigo\",\"floro\",\"san andres\",\"ola\",\"taro\",\"new norfolk\",\"dukhan\",\"saint-pierre\",\"bel ombre\",\"hammerfest\",\"boa vista\",\"haparanda\",\"amahai\",\"wewak\",\"bakchar\",\"quartu sant'elena\",\"mumbwa\",\"enid\",\"nanaimo\",\"souillac\",\"al kharijah\",\"keelung\",\"zag\",\"karratha\",\"kununurra\",\"nouadhibou\",\"arteche\",\"totness\",\"maracaibo\",\"siddipet\",\"chachersk\",\"kuching\",\"bogale\",\"lospalos\",\"mana\",\"muisne\",\"kaa-khem\",\"shahrud\",\"rikaze\",\"raduzhny\",\"amuntai\",\"bridgetown\",\"eastham\",\"tumayr\",\"pionerskiy\",\"achinsk\",\"ghat\",\"heunghae\",\"st. john's\",\"freeport\",\"chifeng\",\"aykhal\",\"santa maria da vitoria\",\"yuzhno-kurilsk\",\"borgonovo valtidone\",\"jayapura\",\"duki\",\"barabai\"],\"size\":{\"__ndarray__\":\"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\",\"dtype\":\"float64\",\"order\":\"little\",\"shape\":[564]}},\"selected\":{\"id\":\"1714\"},\"selection_policy\":{\"id\":\"1726\"}},\"id\":\"1713\",\"type\":\"ColumnDataSource\"},{\"attributes\":{\"dimension\":\"lat\"},\"id\":\"1684\",\"type\":\"MercatorTickFormatter\"},{\"attributes\":{\"dimension\":\"lon\"},\"id\":\"1682\",\"type\":\"MercatorTickFormatter\"},{\"attributes\":{\"active_drag\":{\"id\":\"1669\"},\"tools\":[{\"id\":\"1650\"},{\"id\":\"1668\"},{\"id\":\"1669\"},{\"id\":\"1670\"},{\"id\":\"1671\"},{\"id\":\"1672\"}]},\"id\":\"1674\",\"type\":\"Toolbar\"},{\"attributes\":{\"attribution\":\"&copy; <a href=\\\"https://www.openstreetmap.org/copyright\\\">OpenStreetMap</a> contributors\",\"url\":\"https://c.tile.openstreetmap.org/{Z}/{X}/{Y}.png\"},\"id\":\"1707\",\"type\":\"WMTSTileSource\"},{\"attributes\":{\"dimension\":\"lon\"},\"id\":\"1681\",\"type\":\"MercatorTicker\"},{\"attributes\":{\"dimension\":\"lat\"},\"id\":\"1683\",\"type\":\"MercatorTicker\"},{\"attributes\":{\"fill_alpha\":{\"value\":0.5},\"fill_color\":{\"field\":\"color\",\"transform\":{\"id\":\"1712\"}},\"hatch_alpha\":{\"value\":0.5},\"hatch_color\":{\"field\":\"color\",\"transform\":{\"id\":\"1712\"}},\"line_alpha\":{\"value\":0.5},\"line_color\":{\"field\":\"color\",\"transform\":{\"id\":\"1712\"}},\"size\":{\"field\":\"size\"},\"tags\":[\"apply_ranges\"],\"x\":{\"field\":\"Lng\"},\"y\":{\"field\":\"Lat\"}},\"id\":\"1716\",\"type\":\"Scatter\"},{\"attributes\":{},\"id\":\"1694\",\"type\":\"AllLabels\"}],\"root_ids\":[\"1641\"]},\"title\":\"Bokeh Application\",\"version\":\"2.4.3\"}};\n",
       "    var render_items = [{\"docid\":\"78824a4e-2084-43d8-920e-d948168a396d\",\"root_ids\":[\"1641\"],\"roots\":{\"1641\":\"ed166929-8537-4ab9-8afb-5df9e654cf81\"}}];\n",
       "    root.Bokeh.embed.embed_items_notebook(docs_json, render_items);\n",
       "    for (const render_item of render_items) {\n",
       "      for (const root_id of render_item.root_ids) {\n",
       "\tconst id_el = document.getElementById(root_id)\n",
       "\tif (id_el.children.length && (id_el.children[0].className === 'bk-root')) {\n",
       "\t  const root_el = id_el.children[0]\n",
       "\t  root_el.id = root_el.id + '-rendered'\n",
       "\t}\n",
       "      }\n",
       "    }\n",
       "  }\n",
       "  if (root.Bokeh !== undefined && root.Bokeh.Panel !== undefined) {\n",
       "    embed_document(root);\n",
       "  } else {\n",
       "    var attempts = 0;\n",
       "    var timer = setInterval(function(root) {\n",
       "      if (root.Bokeh !== undefined && root.Bokeh.Panel !== undefined) {\n",
       "        clearInterval(timer);\n",
       "        embed_document(root);\n",
       "      } else if (document.readyState == \"complete\") {\n",
       "        attempts++;\n",
       "        if (attempts > 200) {\n",
       "          clearInterval(timer);\n",
       "          console.log(\"Bokeh: ERROR: Unable to run BokehJS code because BokehJS library is missing\");\n",
       "        }\n",
       "      }\n",
       "    }, 25, root)\n",
       "  }\n",
       "})(window);</script>"
      ],
      "text/plain": [
       ":Overlay\n",
       "   .Tiles.I  :Tiles   [x,y]\n",
       "   .Points.I :Points   [Lng,Lat]   (City,Humidity)"
      ]
     },
     "execution_count": 20,
     "metadata": {
      "application/vnd.holoviews_exec.v0+json": {
       "id": "1641"
      }
     },
     "output_type": "execute_result"
    }
   ],
   "source": [
    "%%capture --no-display\n",
    "\n",
    "# Configure the map plot\n",
    "city_plot = city_data_df.hvplot.points('Lng', 'Lat', geo=True, tiles=\"OSM\",\n",
    "                                    frame_height = 300, frame_width = 500, alpha=0.5,\n",
    "                                    size = 'Humidity', scale = 0.7, color = 'City')\n",
    "\n",
    "# Display the map\n",
    "city_plot"
   ]
  },
  {
   "cell_type": "markdown",
   "metadata": {},
   "source": [
    "### Step 2: Narrow down the `city_data_df` DataFrame to find your ideal weather condition"
   ]
  },
  {
   "cell_type": "code",
   "execution_count": 21,
   "metadata": {},
   "outputs": [
    {
     "data": {
      "text/html": [
       "<div>\n",
       "<style scoped>\n",
       "    .dataframe tbody tr th:only-of-type {\n",
       "        vertical-align: middle;\n",
       "    }\n",
       "\n",
       "    .dataframe tbody tr th {\n",
       "        vertical-align: top;\n",
       "    }\n",
       "\n",
       "    .dataframe thead th {\n",
       "        text-align: right;\n",
       "    }\n",
       "</style>\n",
       "<table border=\"1\" class=\"dataframe\">\n",
       "  <thead>\n",
       "    <tr style=\"text-align: right;\">\n",
       "      <th></th>\n",
       "      <th>City_ID</th>\n",
       "      <th>City</th>\n",
       "      <th>Lat</th>\n",
       "      <th>Lng</th>\n",
       "      <th>Max Temp</th>\n",
       "      <th>Humidity</th>\n",
       "      <th>Cloudiness</th>\n",
       "      <th>Wind Speed</th>\n",
       "      <th>Country</th>\n",
       "      <th>Date</th>\n",
       "    </tr>\n",
       "  </thead>\n",
       "  <tbody>\n",
       "  </tbody>\n",
       "</table>\n",
       "</div>"
      ],
      "text/plain": [
       "Empty DataFrame\n",
       "Columns: [City_ID, City, Lat, Lng, Max Temp, Humidity, Cloudiness, Wind Speed, Country, Date]\n",
       "Index: []"
      ]
     },
     "execution_count": 21,
     "metadata": {},
     "output_type": "execute_result"
    }
   ],
   "source": [
    "# Narrow down cities that fit criteria and drop any results with null values\n",
    "specific_cities_df = city_data_df.loc[\n",
    "        (city_data_df[\"Max Temp\"] >= 15) &\n",
    "        (city_data_df[\"Max Temp\"] <= 28) &\n",
    "        (city_data_df[\"Cloudiness\"] < 50)\n",
    "]\n",
    "# Drop any rows with null values\n",
    "specific_cities_df = specific_cities_df.dropna()\n",
    "\n",
    "# Display sample data\n",
    "specific_cities_df.head()"
   ]
  },
  {
   "cell_type": "markdown",
   "metadata": {},
   "source": [
    "### Step 3: Create a new DataFrame called `hotel_df`."
   ]
  },
  {
   "cell_type": "code",
   "execution_count": 22,
   "metadata": {},
   "outputs": [
    {
     "data": {
      "text/html": [
       "<div>\n",
       "<style scoped>\n",
       "    .dataframe tbody tr th:only-of-type {\n",
       "        vertical-align: middle;\n",
       "    }\n",
       "\n",
       "    .dataframe tbody tr th {\n",
       "        vertical-align: top;\n",
       "    }\n",
       "\n",
       "    .dataframe thead th {\n",
       "        text-align: right;\n",
       "    }\n",
       "</style>\n",
       "<table border=\"1\" class=\"dataframe\">\n",
       "  <thead>\n",
       "    <tr style=\"text-align: right;\">\n",
       "      <th></th>\n",
       "      <th>City</th>\n",
       "      <th>Country</th>\n",
       "      <th>Lat</th>\n",
       "      <th>Lng</th>\n",
       "      <th>Humidity</th>\n",
       "      <th>Hotel Name</th>\n",
       "    </tr>\n",
       "  </thead>\n",
       "  <tbody>\n",
       "  </tbody>\n",
       "</table>\n",
       "</div>"
      ],
      "text/plain": [
       "Empty DataFrame\n",
       "Columns: [City, Country, Lat, Lng, Humidity, Hotel Name]\n",
       "Index: []"
      ]
     },
     "execution_count": 22,
     "metadata": {},
     "output_type": "execute_result"
    }
   ],
   "source": [
    "# Use the Pandas copy function to create DataFrame called hotel_df to store the city, country, coordinates, and humidity\n",
    "hotel_df = specific_cities_df.copy()[[\"City\", \"Country\",\"Lat\",\"Lng\",\"Humidity\"]]\n",
    "\n",
    "# Add an empty column, \"Hotel Name,\" to the DataFrame so you can store the hotel found using the Geoapify API\n",
    "hotel_df[\"Hotel Name\"] = ''\n",
    "\n",
    "# Display sample data\n",
    "hotel_df.head()"
   ]
  },
  {
   "cell_type": "markdown",
   "metadata": {},
   "source": [
    "### Step 4: For each city, use the Geoapify API to find the first hotel located within 10,000 metres of your coordinates."
   ]
  },
  {
   "cell_type": "code",
   "execution_count": 24,
   "metadata": {},
   "outputs": [
    {
     "name": "stdout",
     "output_type": "stream",
     "text": [
      "Starting hotel search\n"
     ]
    },
    {
     "data": {
      "text/html": [
       "<div>\n",
       "<style scoped>\n",
       "    .dataframe tbody tr th:only-of-type {\n",
       "        vertical-align: middle;\n",
       "    }\n",
       "\n",
       "    .dataframe tbody tr th {\n",
       "        vertical-align: top;\n",
       "    }\n",
       "\n",
       "    .dataframe thead th {\n",
       "        text-align: right;\n",
       "    }\n",
       "</style>\n",
       "<table border=\"1\" class=\"dataframe\">\n",
       "  <thead>\n",
       "    <tr style=\"text-align: right;\">\n",
       "      <th></th>\n",
       "      <th>City</th>\n",
       "      <th>Country</th>\n",
       "      <th>Lat</th>\n",
       "      <th>Lng</th>\n",
       "      <th>Humidity</th>\n",
       "      <th>Hotel Name</th>\n",
       "    </tr>\n",
       "  </thead>\n",
       "  <tbody>\n",
       "  </tbody>\n",
       "</table>\n",
       "</div>"
      ],
      "text/plain": [
       "Empty DataFrame\n",
       "Columns: [City, Country, Lat, Lng, Humidity, Hotel Name]\n",
       "Index: []"
      ]
     },
     "execution_count": 24,
     "metadata": {},
     "output_type": "execute_result"
    }
   ],
   "source": [
    "# Set parameters to search for a hotel\n",
    "radius = 10000\n",
    "params = {\n",
    "    \"categories\": \"accommodation.hotel\",\n",
    "    \"limit\": 20,\n",
    "    \"apiKey\":geoapify_key\n",
    "}\n",
    "\n",
    "# Print a message to follow up the hotel search\n",
    "print(\"Starting hotel search\")\n",
    "\n",
    "# Iterate through the hotel_df DataFrame\n",
    "for index, row in hotel_df.iterrows():\n",
    "    # get latitude, longitude from the DataFrame\n",
    "    latitude = hotel_df.loc[index, \"Lat\"]\n",
    "    longitude = hotel_df.loc[index, \"Lng\"]\n",
    "    \n",
    "    # Add filter and bias parameters with the current city's latitude and longitude to the params dictionary\n",
    "    params[\"filter\"] = f\"circle:{longitude},{latitude},{radius}\"\n",
    "    params[\"bias\"] = f\"proximity:{longitude},{latitude}\"\n",
    "    \n",
    "    # Set base URL\n",
    "    base_url = \"https://api.geoapify.com/v2/places\"\n",
    "\n",
    "\n",
    "    # Make and API request using the params dictionaty\n",
    "    name_address = requests.get(base_url, params=params)\n",
    "    \n",
    "    # Convert the API response to JSON format\n",
    "    name_address = name_address.json()\n",
    "    \n",
    "    # Grab the first hotel from the results and store the name in the hotel_df DataFrame\n",
    "    try:\n",
    "        hotel_df.loc[index, \"Hotel Name\"] = name_address[\"features\"][0][\"properties\"][\"name\"]\n",
    "    except (KeyError, IndexError):\n",
    "        # If no hotel is found, set the hotel name as \"No hotel found\".\n",
    "        hotel_df.loc[index, \"Hotel Name\"] = \"No hotel found\"\n",
    "        \n",
    "    # Log the search results\n",
    "    print(f\"{hotel_df.loc[index, 'City']} - nearest hotel: {hotel_df.loc[index, 'Hotel Name']}\")\n",
    "\n",
    "# Display sample data\n",
    "hotel_df"
   ]
  },
  {
   "cell_type": "markdown",
   "metadata": {},
   "source": [
    "### Step 5: Add the hotel name and the country as additional information in the hover message for each city in the map."
   ]
  },
  {
   "cell_type": "code",
   "execution_count": 17,
   "metadata": {},
   "outputs": [
    {
     "data": {},
     "metadata": {},
     "output_type": "display_data"
    },
    {
     "data": {
      "application/vnd.holoviews_exec.v0+json": "",
      "text/html": [
       "<div id='1519'>\n",
       "  <div class=\"bk-root\" id=\"52972252-0997-4535-a1d9-ab3d35c8419a\" data-root-id=\"1519\"></div>\n",
       "</div>\n",
       "<script type=\"application/javascript\">(function(root) {\n",
       "  function embed_document(root) {\n",
       "    var docs_json = {\"cec6fa10-b1c5-43bb-a23a-a291320261ea\":{\"defs\":[{\"extends\":null,\"module\":null,\"name\":\"ReactiveHTML1\",\"overrides\":[],\"properties\":[]},{\"extends\":null,\"module\":null,\"name\":\"FlexBox1\",\"overrides\":[],\"properties\":[{\"default\":\"flex-start\",\"kind\":null,\"name\":\"align_content\"},{\"default\":\"flex-start\",\"kind\":null,\"name\":\"align_items\"},{\"default\":\"row\",\"kind\":null,\"name\":\"flex_direction\"},{\"default\":\"wrap\",\"kind\":null,\"name\":\"flex_wrap\"},{\"default\":\"flex-start\",\"kind\":null,\"name\":\"justify_content\"}]},{\"extends\":null,\"module\":null,\"name\":\"GridStack1\",\"overrides\":[],\"properties\":[{\"default\":\"warn\",\"kind\":null,\"name\":\"mode\"},{\"default\":null,\"kind\":null,\"name\":\"ncols\"},{\"default\":null,\"kind\":null,\"name\":\"nrows\"},{\"default\":true,\"kind\":null,\"name\":\"allow_resize\"},{\"default\":true,\"kind\":null,\"name\":\"allow_drag\"},{\"default\":[],\"kind\":null,\"name\":\"state\"}]},{\"extends\":null,\"module\":null,\"name\":\"click1\",\"overrides\":[],\"properties\":[{\"default\":\"\",\"kind\":null,\"name\":\"terminal_output\"},{\"default\":\"\",\"kind\":null,\"name\":\"debug_name\"},{\"default\":0,\"kind\":null,\"name\":\"clears\"}]},{\"extends\":null,\"module\":null,\"name\":\"NotificationAreaBase1\",\"overrides\":[],\"properties\":[{\"default\":\"bottom-right\",\"kind\":null,\"name\":\"position\"},{\"default\":0,\"kind\":null,\"name\":\"_clear\"}]},{\"extends\":null,\"module\":null,\"name\":\"NotificationArea1\",\"overrides\":[],\"properties\":[{\"default\":[],\"kind\":null,\"name\":\"notifications\"},{\"default\":\"bottom-right\",\"kind\":null,\"name\":\"position\"},{\"default\":0,\"kind\":null,\"name\":\"_clear\"},{\"default\":[{\"background\":\"#ffc107\",\"icon\":{\"className\":\"fas fa-exclamation-triangle\",\"color\":\"white\",\"tagName\":\"i\"},\"type\":\"warning\"},{\"background\":\"#007bff\",\"icon\":{\"className\":\"fas fa-info-circle\",\"color\":\"white\",\"tagName\":\"i\"},\"type\":\"info\"}],\"kind\":null,\"name\":\"types\"}]},{\"extends\":null,\"module\":null,\"name\":\"Notification\",\"overrides\":[],\"properties\":[{\"default\":null,\"kind\":null,\"name\":\"background\"},{\"default\":3000,\"kind\":null,\"name\":\"duration\"},{\"default\":null,\"kind\":null,\"name\":\"icon\"},{\"default\":\"\",\"kind\":null,\"name\":\"message\"},{\"default\":null,\"kind\":null,\"name\":\"notification_type\"},{\"default\":false,\"kind\":null,\"name\":\"_destroyed\"}]},{\"extends\":null,\"module\":null,\"name\":\"TemplateActions1\",\"overrides\":[],\"properties\":[{\"default\":0,\"kind\":null,\"name\":\"open_modal\"},{\"default\":0,\"kind\":null,\"name\":\"close_modal\"}]},{\"extends\":null,\"module\":null,\"name\":\"MaterialTemplateActions1\",\"overrides\":[],\"properties\":[{\"default\":0,\"kind\":null,\"name\":\"open_modal\"},{\"default\":0,\"kind\":null,\"name\":\"close_modal\"}]}],\"roots\":{\"references\":[{\"attributes\":{},\"id\":\"1536\",\"type\":\"LinearScale\"},{\"attributes\":{\"dimension\":\"lat\"},\"id\":\"1562\",\"type\":\"MercatorTickFormatter\"},{\"attributes\":{\"code\":\"\\n        var projections = Bokeh.require(\\\"core/util/projections\\\");\\n        var x = special_vars.data_x\\n        var y = special_vars.data_y\\n        var coords = projections.wgs84_mercator.invert(x, y)\\n        return \\\"\\\" + (coords[1]).toFixed(4)\\n    \"},\"id\":\"1601\",\"type\":\"CustomJSHover\"},{\"attributes\":{\"fill_alpha\":{\"value\":0.5},\"fill_color\":{\"field\":\"color\"},\"hatch_alpha\":{\"value\":0.1},\"hatch_color\":{\"field\":\"color\"},\"line_alpha\":{\"value\":0.5},\"line_color\":{\"field\":\"color\"},\"size\":{\"field\":\"size\"},\"tags\":[\"apply_ranges\"],\"x\":{\"field\":\"Lng\"},\"y\":{\"field\":\"Lat\"}},\"id\":\"1594\",\"type\":\"Scatter\"},{\"attributes\":{\"below\":[{\"id\":\"1538\"}],\"center\":[{\"id\":\"1541\"},{\"id\":\"1545\"}],\"frame_height\":300,\"frame_width\":500,\"height\":null,\"left\":[{\"id\":\"1542\"}],\"margin\":[5,5,5,5],\"match_aspect\":true,\"min_border_bottom\":10,\"min_border_left\":10,\"min_border_right\":10,\"min_border_top\":10,\"output_backend\":\"webgl\",\"renderers\":[{\"id\":\"1588\"},{\"id\":\"1598\"}],\"sizing_mode\":\"fixed\",\"title\":{\"id\":\"1530\"},\"toolbar\":{\"id\":\"1552\"},\"width\":null,\"x_range\":{\"id\":\"1524\"},\"x_scale\":{\"id\":\"1534\"},\"y_range\":{\"id\":\"1525\"},\"y_scale\":{\"id\":\"1536\"}},\"id\":\"1529\",\"subtype\":\"Figure\",\"type\":\"Plot\"},{\"attributes\":{},\"id\":\"1572\",\"type\":\"AllLabels\"},{\"attributes\":{\"fill_alpha\":{\"value\":0.5},\"fill_color\":{\"field\":\"color\"},\"hatch_alpha\":{\"value\":0.5},\"hatch_color\":{\"field\":\"color\"},\"line_alpha\":{\"value\":0.5},\"line_color\":{\"field\":\"color\"},\"size\":{\"field\":\"size\"},\"tags\":[\"apply_ranges\"],\"x\":{\"field\":\"Lng\"},\"y\":{\"field\":\"Lat\"}},\"id\":\"1595\",\"type\":\"Scatter\"},{\"attributes\":{\"axis\":{\"id\":\"1538\"},\"coordinates\":null,\"grid_line_color\":null,\"group\":null,\"ticker\":null},\"id\":\"1541\",\"type\":\"Grid\"},{\"attributes\":{\"fill_alpha\":{\"value\":0.5},\"fill_color\":{\"field\":\"color\"},\"hatch_alpha\":{\"value\":0.5},\"hatch_color\":{\"field\":\"color\"},\"line_alpha\":{\"value\":0.5},\"line_color\":{\"field\":\"color\"},\"size\":{\"field\":\"size\"},\"tags\":[\"apply_ranges\"],\"x\":{\"field\":\"Lng\"},\"y\":{\"field\":\"Lat\"}},\"id\":\"1593\",\"type\":\"Scatter\"},{\"attributes\":{},\"id\":\"1547\",\"type\":\"PanTool\"},{\"attributes\":{\"attribution\":\"&copy; <a href=\\\"https://www.openstreetmap.org/copyright\\\">OpenStreetMap</a> contributors\",\"url\":\"https://c.tile.openstreetmap.org/{Z}/{X}/{Y}.png\"},\"id\":\"1585\",\"type\":\"WMTSTileSource\"},{\"attributes\":{\"fill_alpha\":{\"value\":0.5},\"fill_color\":{\"field\":\"color\"},\"hatch_alpha\":{\"value\":0.5},\"hatch_color\":{\"field\":\"color\"},\"line_alpha\":{\"value\":0.5},\"line_color\":{\"field\":\"color\"},\"size\":{\"field\":\"size\"},\"tags\":[\"apply_ranges\"],\"x\":{\"field\":\"Lng\"},\"y\":{\"field\":\"Lat\"}},\"id\":\"1596\",\"type\":\"Scatter\"},{\"attributes\":{\"axis_label\":\"y\",\"coordinates\":null,\"formatter\":{\"id\":\"1562\"},\"group\":null,\"major_label_policy\":{\"id\":\"1572\"},\"ticker\":{\"id\":\"1561\"}},\"id\":\"1542\",\"type\":\"LinearAxis\"},{\"attributes\":{\"axis\":{\"id\":\"1542\"},\"coordinates\":null,\"dimension\":1,\"grid_line_color\":null,\"group\":null,\"ticker\":null},\"id\":\"1545\",\"type\":\"Grid\"},{\"attributes\":{\"zoom_on_axis\":false},\"id\":\"1548\",\"type\":\"WheelZoomTool\"},{\"attributes\":{\"fill_alpha\":{\"value\":0.2},\"fill_color\":{\"field\":\"color\"},\"hatch_alpha\":{\"value\":0.2},\"hatch_color\":{\"field\":\"color\"},\"line_alpha\":{\"value\":0.2},\"line_color\":{\"field\":\"color\"},\"size\":{\"field\":\"size\"},\"tags\":[\"apply_ranges\"],\"x\":{\"field\":\"Lng\"},\"y\":{\"field\":\"Lat\"}},\"id\":\"1597\",\"type\":\"Scatter\"},{\"attributes\":{},\"id\":\"1546\",\"type\":\"SaveTool\"},{\"attributes\":{\"coordinates\":null,\"data_source\":{\"id\":\"1590\"},\"glyph\":{\"id\":\"1593\"},\"group\":null,\"hover_glyph\":{\"id\":\"1596\"},\"muted_glyph\":{\"id\":\"1597\"},\"nonselection_glyph\":{\"id\":\"1594\"},\"selection_glyph\":{\"id\":\"1595\"},\"view\":{\"id\":\"1599\"}},\"id\":\"1598\",\"type\":\"GlyphRenderer\"},{\"attributes\":{},\"id\":\"1607\",\"type\":\"UnionRenderers\"},{\"attributes\":{\"match_aspect\":true,\"overlay\":{\"id\":\"1551\"}},\"id\":\"1549\",\"type\":\"BoxZoomTool\"},{\"attributes\":{},\"id\":\"1550\",\"type\":\"ResetTool\"},{\"attributes\":{\"coordinates\":null,\"group\":null,\"level\":\"glyph\",\"tile_source\":{\"id\":\"1585\"}},\"id\":\"1588\",\"type\":\"TileRenderer\"},{\"attributes\":{\"bottom_units\":\"screen\",\"coordinates\":null,\"fill_alpha\":0.5,\"fill_color\":\"lightgrey\",\"group\":null,\"left_units\":\"screen\",\"level\":\"overlay\",\"line_alpha\":1.0,\"line_color\":\"black\",\"line_dash\":[4,4],\"line_width\":2,\"right_units\":\"screen\",\"syncable\":false,\"top_units\":\"screen\"},\"id\":\"1551\",\"type\":\"BoxAnnotation\"},{\"attributes\":{\"dimension\":\"lon\"},\"id\":\"1560\",\"type\":\"MercatorTickFormatter\"},{\"attributes\":{\"min_interval\":5,\"start\":3.0,\"tags\":[[[\"Lat\",\"Lat\",null]]]},\"id\":\"1525\",\"type\":\"Range1d\"},{\"attributes\":{\"active_drag\":{\"id\":\"1547\"},\"tools\":[{\"id\":\"1528\"},{\"id\":\"1546\"},{\"id\":\"1547\"},{\"id\":\"1548\"},{\"id\":\"1549\"},{\"id\":\"1550\"}]},\"id\":\"1552\",\"type\":\"Toolbar\"},{\"attributes\":{\"dimension\":\"lon\"},\"id\":\"1559\",\"type\":\"MercatorTicker\"},{\"attributes\":{},\"id\":\"1565\",\"type\":\"AllLabels\"},{\"attributes\":{\"children\":[{\"id\":\"1529\"}],\"margin\":[0,0,0,0],\"name\":\"Row02103\",\"sizing_mode\":\"fixed\",\"tags\":[\"embedded\"]},\"id\":\"1519\",\"type\":\"Row\"},{\"attributes\":{\"dimension\":\"lat\"},\"id\":\"1561\",\"type\":\"MercatorTicker\"},{\"attributes\":{},\"id\":\"1591\",\"type\":\"Selection\"},{\"attributes\":{\"source\":{\"id\":\"1590\"}},\"id\":\"1599\",\"type\":\"CDSView\"},{\"attributes\":{\"axis_label\":\"x\",\"coordinates\":null,\"formatter\":{\"id\":\"1560\"},\"group\":null,\"major_label_policy\":{\"id\":\"1565\"},\"ticker\":{\"id\":\"1559\"}},\"id\":\"1538\",\"type\":\"LinearAxis\"},{\"attributes\":{\"code\":\"\\n        var projections = Bokeh.require(\\\"core/util/projections\\\");\\n        var x = special_vars.data_x\\n        var y = special_vars.data_y\\n        var coords = projections.wgs84_mercator.invert(x, y)\\n        return \\\"\\\" + (coords[0]).toFixed(4)\\n    \"},\"id\":\"1600\",\"type\":\"CustomJSHover\"},{\"attributes\":{\"callback\":null,\"formatters\":{\"$x\":{\"id\":\"1600\"},\"$y\":{\"id\":\"1601\"}},\"renderers\":[{\"id\":\"1598\"}],\"tags\":[\"hv_created\"],\"tooltips\":[[\"Lng\",\"$x{custom}\"],[\"Lat\",\"$y{custom}\"],[\"City\",\"@{City}\"],[\"Humidity\",\"@{Humidity}\"],[\"Hotel Name\",\"@{Hotel_Name}\"],[\"Country\",\"@{Country}\"]]},\"id\":\"1528\",\"type\":\"HoverTool\"},{\"attributes\":{\"data\":{\"City\":[],\"Country\":[],\"Hotel_Name\":[],\"Humidity\":[],\"Lat\":{\"__ndarray__\":\"\",\"dtype\":\"float64\",\"order\":\"little\",\"shape\":[0]},\"Lng\":{\"__ndarray__\":\"\",\"dtype\":\"float64\",\"order\":\"little\",\"shape\":[0]},\"color\":[],\"size\":{\"__ndarray__\":\"\",\"dtype\":\"float64\",\"order\":\"little\",\"shape\":[0]}},\"selected\":{\"id\":\"1591\"},\"selection_policy\":{\"id\":\"1607\"}},\"id\":\"1590\",\"type\":\"ColumnDataSource\"},{\"attributes\":{\"coordinates\":null,\"group\":null,\"text_color\":\"black\",\"text_font_size\":\"12pt\"},\"id\":\"1530\",\"type\":\"Title\"},{\"attributes\":{\"min_interval\":5,\"start\":3.0,\"tags\":[[[\"Lng\",\"Lng\",null]]]},\"id\":\"1524\",\"type\":\"Range1d\"},{\"attributes\":{},\"id\":\"1534\",\"type\":\"LinearScale\"}],\"root_ids\":[\"1519\"]},\"title\":\"Bokeh Application\",\"version\":\"2.4.3\"}};\n",
       "    var render_items = [{\"docid\":\"cec6fa10-b1c5-43bb-a23a-a291320261ea\",\"root_ids\":[\"1519\"],\"roots\":{\"1519\":\"52972252-0997-4535-a1d9-ab3d35c8419a\"}}];\n",
       "    root.Bokeh.embed.embed_items_notebook(docs_json, render_items);\n",
       "    for (const render_item of render_items) {\n",
       "      for (const root_id of render_item.root_ids) {\n",
       "\tconst id_el = document.getElementById(root_id)\n",
       "\tif (id_el.children.length && (id_el.children[0].className === 'bk-root')) {\n",
       "\t  const root_el = id_el.children[0]\n",
       "\t  root_el.id = root_el.id + '-rendered'\n",
       "\t}\n",
       "      }\n",
       "    }\n",
       "  }\n",
       "  if (root.Bokeh !== undefined && root.Bokeh.Panel !== undefined) {\n",
       "    embed_document(root);\n",
       "  } else {\n",
       "    var attempts = 0;\n",
       "    var timer = setInterval(function(root) {\n",
       "      if (root.Bokeh !== undefined && root.Bokeh.Panel !== undefined) {\n",
       "        clearInterval(timer);\n",
       "        embed_document(root);\n",
       "      } else if (document.readyState == \"complete\") {\n",
       "        attempts++;\n",
       "        if (attempts > 200) {\n",
       "          clearInterval(timer);\n",
       "          console.log(\"Bokeh: ERROR: Unable to run BokehJS code because BokehJS library is missing\");\n",
       "        }\n",
       "      }\n",
       "    }, 25, root)\n",
       "  }\n",
       "})(window);</script>"
      ],
      "text/plain": [
       ":Overlay\n",
       "   .Tiles.I  :Tiles   [x,y]\n",
       "   .Points.I :Points   [Lng,Lat]   (City,Humidity,Hotel Name,Country)"
      ]
     },
     "execution_count": 17,
     "metadata": {
      "application/vnd.holoviews_exec.v0+json": {
       "id": "1519"
      }
     },
     "output_type": "execute_result"
    }
   ],
   "source": [
    "%%capture --no-display\n",
    "\n",
    "# Configure the map plot\n",
    "city_plot = hotel_df.hvplot.points('Lng', 'Lat', geo=True, tiles=\"OSM\",\n",
    "                                    frame_height = 300, frame_width = 500, alpha=0.5,\n",
    "                                    size = 'Humidity', scale = 0.7, color = 'City',\n",
    "                                    hover_cols=[\"Hotel Name\", \"Country\"])\n",
    "\n",
    "# Display the map\n",
    "city_plot"
   ]
  },
  {
   "cell_type": "code",
   "execution_count": null,
   "metadata": {},
   "outputs": [],
   "source": []
  }
 ],
 "metadata": {
  "kernelspec": {
   "display_name": "Python 3 (ipykernel)",
   "language": "python",
   "name": "python3"
  },
  "language_info": {
   "codemirror_mode": {
    "name": "ipython",
    "version": 3
   },
   "file_extension": ".py",
   "mimetype": "text/x-python",
   "name": "python",
   "nbconvert_exporter": "python",
   "pygments_lexer": "ipython3",
   "version": "3.10.11"
  },
  "latex_envs": {
   "LaTeX_envs_menu_present": true,
   "autoclose": false,
   "autocomplete": true,
   "bibliofile": "biblio.bib",
   "cite_by": "apalike",
   "current_citInitial": 1,
   "eqLabelWithNumbers": true,
   "eqNumInitial": 1,
   "hotkeys": {
    "equation": "Ctrl-E",
    "itemize": "Ctrl-I"
   },
   "labels_anchors": false,
   "latex_user_defs": false,
   "report_style_numbering": false,
   "user_envs_cfg": false
  }
 },
 "nbformat": 4,
 "nbformat_minor": 4
}
